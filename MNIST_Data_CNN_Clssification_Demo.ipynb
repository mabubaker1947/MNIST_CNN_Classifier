{
 "cells": [
  {
   "cell_type": "markdown",
   "metadata": {
    "colab_type": "text",
    "id": "nQ5SWg2aV4MN"
   },
   "source": [
    "# Demo: Convolutional Neural Networks"
   ]
  },
  {
   "cell_type": "markdown",
   "metadata": {},
   "source": [
    "This Jupyter notebook have been prepared for demonstartion purpose of how a Convolutional Neural Network operates in order to address a typical classification problem.\n",
    "\n",
    "The dataset used in this demo is the Fashion MNIST datatset, and is publically available from Keras free datasets."
   ]
  },
  {
   "cell_type": "markdown",
   "metadata": {
    "colab_type": "text",
    "id": "HXalAQMaV4L8"
   },
   "source": [
    "# Name: Muhammad Abubaker\n",
    "# Email: mabubaker1947@outlook.com\n",
    "# Git:      https://github.com/mabubaker1947"
   ]
  },
  {
   "cell_type": "markdown",
   "metadata": {
    "colab_type": "text",
    "id": "chS3wqp9V4MQ"
   },
   "source": [
    "We will conduct following\n",
    "- the necessary preprocessing steps,\n",
    "- and then define,\n",
    "- train,\n",
    "- and test a convolutional neural network model\n",
    "\n",
    "on image data. The data consists of images of clothing."
   ]
  },
  {
   "cell_type": "markdown",
   "metadata": {
    "colab_type": "text",
    "id": "NIRy8YdqV4MS"
   },
   "source": [
    "Now, lets begin by loading some of the required packages:"
   ]
  },
  {
   "cell_type": "code",
   "execution_count": 1,
   "metadata": {
    "colab": {
     "base_uri": "https://localhost:8080/",
     "height": 34
    },
    "colab_type": "code",
    "executionInfo": {
     "elapsed": 5334,
     "status": "ok",
     "timestamp": 1544147185093,
     "user": {
      "displayName": "I110320 M.Abubakar",
      "photoUrl": "https://lh4.googleusercontent.com/-RQ9G8JDj-0A/AAAAAAAAAAI/AAAAAAAAAAA/f9dkI-cWZBA/s64/photo.jpg",
      "userId": "17893374916846866038"
     },
     "user_tz": 0
    },
    "id": "bTb2aGbUV4MX",
    "outputId": "b4aa43d4-b554-49c8-ba80-e9019b3e853b"
   },
   "outputs": [
    {
     "name": "stdout",
     "output_type": "stream",
     "text": [
      "Once deleted, variables cannot be recovered. Proceed (y/[n])? y\n"
     ]
    }
   ],
   "source": [
    "%reset"
   ]
  },
  {
   "cell_type": "code",
   "execution_count": 2,
   "metadata": {
    "colab": {
     "base_uri": "https://localhost:8080/",
     "height": 34
    },
    "colab_type": "code",
    "executionInfo": {
     "elapsed": 1996,
     "status": "ok",
     "timestamp": 1544147193782,
     "user": {
      "displayName": "I110320 M.Abubakar",
      "photoUrl": "https://lh4.googleusercontent.com/-RQ9G8JDj-0A/AAAAAAAAAAI/AAAAAAAAAAA/f9dkI-cWZBA/s64/photo.jpg",
      "userId": "17893374916846866038"
     },
     "user_tz": 0
    },
    "id": "zC-rNLLwV4Mv",
    "outputId": "bf270a70-efe1-4de7-f0f6-621a70f735b6"
   },
   "outputs": [
    {
     "name": "stderr",
     "output_type": "stream",
     "text": [
      "/usr/local/lib/python3.5/dist-packages/h5py/__init__.py:36: FutureWarning: Conversion of the second argument of issubdtype from `float` to `np.floating` is deprecated. In future, it will be treated as `np.float64 == np.dtype(float).type`.\n",
      "  from ._conv import register_converters as _register_converters\n",
      "Using TensorFlow backend.\n"
     ]
    }
   ],
   "source": [
    "import numpy as np\n",
    "\n",
    "import pandas as pd\n",
    "from pandas import read_csv\n",
    "\n",
    "import matplotlib.pyplot as plt\n",
    "import matplotlib.cm as cm\n",
    "import time as time\n",
    "\n",
    "import keras\n",
    "\n",
    "from keras.utils import to_categorical\n",
    "# Either Keras or Sklearn function can be used for one-hot encodong\n",
    "from sklearn.preprocessing import OneHotEncoder\n",
    "\n",
    "from sklearn.model_selection import train_test_split\n",
    "\n",
    "\n",
    "%matplotlib inline"
   ]
  },
  {
   "cell_type": "markdown",
   "metadata": {
    "colab_type": "text",
    "id": "ykuPxXG4V4M7"
   },
   "source": [
    "### Load the Dataset\n",
    "\n",
    "The two distinct datasets are loaded; one for training and one for testing. These are stored in the corresponding training and testing sets."
   ]
  },
  {
   "cell_type": "code",
   "execution_count": 3,
   "metadata": {
    "colab": {
     "base_uri": "https://localhost:8080/",
     "height": 153
    },
    "colab_type": "code",
    "executionInfo": {
     "elapsed": 2168,
     "status": "ok",
     "timestamp": 1544147199159,
     "user": {
      "displayName": "I110320 M.Abubakar",
      "photoUrl": "https://lh4.googleusercontent.com/-RQ9G8JDj-0A/AAAAAAAAAAI/AAAAAAAAAAA/f9dkI-cWZBA/s64/photo.jpg",
      "userId": "17893374916846866038"
     },
     "user_tz": 0
    },
    "id": "A5t_GrQKV4NF",
    "outputId": "ba667f3a-834b-4ce0-9244-f5ee24fd2050"
   },
   "outputs": [
    {
     "name": "stdout",
     "output_type": "stream",
     "text": [
      "Downloading data from http://fashion-mnist.s3-website.eu-central-1.amazonaws.com/train-labels-idx1-ubyte.gz\n",
      "32768/29515 [=================================] - 0s 3us/step\n",
      "Downloading data from http://fashion-mnist.s3-website.eu-central-1.amazonaws.com/train-images-idx3-ubyte.gz\n",
      "26427392/26421880 [==============================] - 4s 0us/step\n",
      "Downloading data from http://fashion-mnist.s3-website.eu-central-1.amazonaws.com/t10k-labels-idx1-ubyte.gz\n",
      "8192/5148 [===============================================] - 0s 3us/step\n",
      "Downloading data from http://fashion-mnist.s3-website.eu-central-1.amazonaws.com/t10k-images-idx3-ubyte.gz\n",
      "4423680/4422102 [==============================] - 1s 0us/step\n"
     ]
    }
   ],
   "source": [
    "from keras.datasets import fashion_mnist\n",
    "\n",
    "(X_train, y_train), (X_test, y_test) = fashion_mnist.load_data()"
   ]
  },
  {
   "cell_type": "markdown",
   "metadata": {},
   "source": [
    "## Exploratory Data Analysis: (EDA)"
   ]
  },
  {
   "cell_type": "markdown",
   "metadata": {
    "colab_type": "text",
    "id": "iq-o5vizV4NR"
   },
   "source": [
    "A dictionary key is defined below with the corresponding class name for each of the integer encoded values in y_train and y_test."
   ]
  },
  {
   "cell_type": "code",
   "execution_count": 4,
   "metadata": {
    "colab": {},
    "colab_type": "code",
    "id": "hUgUWVNUV4NT"
   },
   "outputs": [],
   "source": [
    "key = {0:\"T-shirt/top\",1:\"Trouser\",2:\"Pullover\",3:\"Dress\",4:\"Coat\",\n",
    "       5:\"Sandal\",6:\"Shirt\",7:\"Sneaker\",8:\"Bag\",9:\"Ankle boot\"}"
   ]
  },
  {
   "cell_type": "markdown",
   "metadata": {
    "colab_type": "text",
    "id": "mi29rm2YV4Nc"
   },
   "source": [
    "- Print the values of an individual sample from X_train"
   ]
  },
  {
   "cell_type": "code",
   "execution_count": 7,
   "metadata": {
    "colab": {
     "base_uri": "https://localhost:8080/",
     "height": 867
    },
    "colab_type": "code",
    "executionInfo": {
     "elapsed": 896,
     "status": "ok",
     "timestamp": 1544147203893,
     "user": {
      "displayName": "I110320 M.Abubakar",
      "photoUrl": "https://lh4.googleusercontent.com/-RQ9G8JDj-0A/AAAAAAAAAAI/AAAAAAAAAAA/f9dkI-cWZBA/s64/photo.jpg",
      "userId": "17893374916846866038"
     },
     "user_tz": 0
    },
    "id": "qRAEqcUuV4Ne",
    "outputId": "5c85cc99-a111-49ce-876b-dae9a8b44b9d"
   },
   "outputs": [
    {
     "name": "stdout",
     "output_type": "stream",
     "text": [
      "X train data\n",
      " [[[0 0 0 ... 0 0 0]\n",
      "  [0 0 0 ... 0 0 0]\n",
      "  [0 0 0 ... 0 0 0]\n",
      "  ...\n",
      "  [0 0 0 ... 0 0 0]\n",
      "  [0 0 0 ... 0 0 0]\n",
      "  [0 0 0 ... 0 0 0]]\n",
      "\n",
      " [[0 0 0 ... 0 0 0]\n",
      "  [0 0 0 ... 0 0 0]\n",
      "  [0 0 0 ... 0 0 0]\n",
      "  ...\n",
      "  [0 0 0 ... 0 0 0]\n",
      "  [0 0 0 ... 0 0 0]\n",
      "  [0 0 0 ... 0 0 0]]\n",
      "\n",
      " [[0 0 0 ... 0 0 0]\n",
      "  [0 0 0 ... 0 0 0]\n",
      "  [0 0 0 ... 0 0 0]\n",
      "  ...\n",
      "  [0 0 0 ... 0 0 0]\n",
      "  [0 0 0 ... 0 0 0]\n",
      "  [0 0 0 ... 0 0 0]]\n",
      "\n",
      " ...\n",
      "\n",
      " [[0 0 0 ... 0 0 0]\n",
      "  [0 0 0 ... 0 0 0]\n",
      "  [0 0 0 ... 0 0 0]\n",
      "  ...\n",
      "  [0 0 0 ... 0 0 0]\n",
      "  [0 0 0 ... 0 0 0]\n",
      "  [0 0 0 ... 0 0 0]]\n",
      "\n",
      " [[0 0 0 ... 0 0 0]\n",
      "  [0 0 0 ... 0 0 0]\n",
      "  [0 0 0 ... 0 0 0]\n",
      "  ...\n",
      "  [0 0 0 ... 0 0 0]\n",
      "  [0 0 0 ... 0 0 0]\n",
      "  [0 0 0 ... 0 0 0]]\n",
      "\n",
      " [[0 0 0 ... 0 0 0]\n",
      "  [0 0 0 ... 0 0 0]\n",
      "  [0 0 0 ... 0 0 0]\n",
      "  ...\n",
      "  [0 0 0 ... 0 0 0]\n",
      "  [0 0 0 ... 0 0 0]\n",
      "  [0 0 0 ... 0 0 0]]]\n"
     ]
    }
   ],
   "source": [
    "print(\"X train data\\n\",X_train)"
   ]
  },
  {
   "cell_type": "code",
   "execution_count": 13,
   "metadata": {},
   "outputs": [
    {
     "name": "stdout",
     "output_type": "stream",
     "text": [
      "Lets see how does out put data look like /n: [9 0 0 ... 3 0 5]\n"
     ]
    }
   ],
   "source": [
    "print(\"Lets see how does out put data look like /n:\",y_train)"
   ]
  },
  {
   "cell_type": "markdown",
   "metadata": {
    "colab_type": "text",
    "id": "b60-aPV1V4N8"
   },
   "source": [
    "- Check the shape of the sample"
   ]
  },
  {
   "cell_type": "code",
   "execution_count": 8,
   "metadata": {
    "colab": {
     "base_uri": "https://localhost:8080/",
     "height": 34
    },
    "colab_type": "code",
    "executionInfo": {
     "elapsed": 633,
     "status": "ok",
     "timestamp": 1544147205745,
     "user": {
      "displayName": "I110320 M.Abubakar",
      "photoUrl": "https://lh4.googleusercontent.com/-RQ9G8JDj-0A/AAAAAAAAAAI/AAAAAAAAAAA/f9dkI-cWZBA/s64/photo.jpg",
      "userId": "17893374916846866038"
     },
     "user_tz": 0
    },
    "id": "tVBhmwKIV4OA",
    "outputId": "198c74e4-2748-404f-a40c-5700f4868759"
   },
   "outputs": [
    {
     "name": "stdout",
     "output_type": "stream",
     "text": [
      "X train shape\t (60000, 28, 28)\n"
     ]
    }
   ],
   "source": [
    "print(\"X train shape\\t\",X_train.shape)"
   ]
  },
  {
   "cell_type": "markdown",
   "metadata": {
    "colab_type": "text",
    "id": "fohKzA6XV4Oe"
   },
   "source": [
    "- Lets Plot few sample images from X_train using the 'imshow' routine in matplotlib "
   ]
  },
  {
   "cell_type": "code",
   "execution_count": 12,
   "metadata": {
    "colab": {
     "base_uri": "https://localhost:8080/",
     "height": 737
    },
    "colab_type": "code",
    "executionInfo": {
     "elapsed": 2044,
     "status": "ok",
     "timestamp": 1544147209909,
     "user": {
      "displayName": "I110320 M.Abubakar",
      "photoUrl": "https://lh4.googleusercontent.com/-RQ9G8JDj-0A/AAAAAAAAAAI/AAAAAAAAAAA/f9dkI-cWZBA/s64/photo.jpg",
      "userId": "17893374916846866038"
     },
     "user_tz": 0
    },
    "id": "7-TKj1VVV4Oj",
    "outputId": "df045523-ecb2-4ca1-f786-510a346045ae"
   },
   "outputs": [
    {
     "data": {
      "image/png": "[encoded data removed]",
      "text/plain": [
       "<Figure size 50.4x50.4 with 1 Axes>"
      ]
     },
     "metadata": {},
     "output_type": "display_data"
    },
    {
     "data": {
      "image/png": "[encoded data removed]",
      "text/plain": [
       "<Figure size 50.4x50.4 with 1 Axes>"
      ]
     },
     "metadata": {},
     "output_type": "display_data"
    },
    {
     "data": {
      "image/png": "[encoded data removed]",
      "text/plain": [
       "<Figure size 50.4x50.4 with 1 Axes>"
      ]
     },
     "metadata": {},
     "output_type": "display_data"
    },
    {
     "data": {
      "image/png": "[encoded data removed]",
      "text/plain": [
       "<Figure size 50.4x50.4 with 1 Axes>"
      ]
     },
     "metadata": {},
     "output_type": "display_data"
    },
    {
     "data": {
      "image/png": "[encoded data removed]",
      "text/plain": [
       "<Figure size 50.4x50.4 with 1 Axes>"
      ]
     },
     "metadata": {},
     "output_type": "display_data"
    },
    {
     "data": {
      "image/png": "[encoded data removed]",
      "text/plain": [
       "<Figure size 50.4x50.4 with 1 Axes>"
      ]
     },
     "metadata": {},
     "output_type": "display_data"
    },
    {
     "data": {
      "image/png": "[encoded data removed]",
      "text/plain": [
       "<Figure size 50.4x50.4 with 1 Axes>"
      ]
     },
     "metadata": {},
     "output_type": "display_data"
    },
    {
     "data": {
      "image/png": "[encoded data removed]",
      "text/plain": [
       "<Figure size 50.4x50.4 with 1 Axes>"
      ]
     },
     "metadata": {},
     "output_type": "display_data"
    },
    {
     "data": {
      "image/png": "[encoded data removed]",
      "text/plain": [
       "<Figure size 50.4x50.4 with 1 Axes>"
      ]
     },
     "metadata": {},
     "output_type": "display_data"
    },
    {
     "data": {
      "image/png": "[encoded data removed]",
      "text/plain": [
       "<Figure size 50.4x50.4 with 1 Axes>"
      ]
     },
     "metadata": {},
     "output_type": "display_data"
    }
   ],
   "source": [
    "#test_image = X_train[0]\n",
    "#print(test_image)\n",
    "#plt.imshow(X_train[0])\n",
    "#plt.show()\n",
    "#plt.imshow(X_train[1])\n",
    "#plt.show()\n",
    "#plt.imshow(X_train[2])\n",
    "#plt.show()\n",
    "''' Last 10 Sample Images in our dataset'''\n",
    "\n",
    "for sample in range(59990,60000):\n",
    "    plt.figure(figsize=(0.7, 0.7))\n",
    "    plt.imshow(X_train[sample])\n",
    "    plt.show()"
   ]
  },
  {
   "cell_type": "markdown",
   "metadata": {
    "colab_type": "text",
    "id": "BX_BHlOsV4Ow"
   },
   "source": [
    "- Plot the frequencies of the output variable vlaues for both the training and the test sets\n",
    "- How are each of the datasets distributed?"
   ]
  },
  {
   "cell_type": "code",
   "execution_count": 19,
   "metadata": {
    "colab": {
     "base_uri": "https://localhost:8080/",
     "height": 656
    },
    "colab_type": "code",
    "executionInfo": {
     "elapsed": 935,
     "status": "ok",
     "timestamp": 1544147213486,
     "user": {
      "displayName": "I110320 M.Abubakar",
      "photoUrl": "https://lh4.googleusercontent.com/-RQ9G8JDj-0A/AAAAAAAAAAI/AAAAAAAAAAA/f9dkI-cWZBA/s64/photo.jpg",
      "userId": "17893374916846866038"
     },
     "user_tz": 0
    },
    "id": "aC1h7Nf3V4Oy",
    "outputId": "dc5cb120-de17-4f43-d1a6-90d78b6c5f03"
   },
   "outputs": [
    {
     "name": "stdout",
     "output_type": "stream",
     "text": [
      "Shape y_train =  (60000,)\n",
      "Shape y_test =  (10000,)\n"
     ]
    },
    {
     "data": {
      "image/png": "[encoded data removed]",
      "text/plain": [
       "<Figure size 432x432 with 1 Axes>"
      ]
     },
     "metadata": {},
     "output_type": "display_data"
    },
    {
     "data": {
      "image/png": "[encoded data removed]",
      "text/plain": [
       "<Figure size 432x288 with 1 Axes>"
      ]
     },
     "metadata": {},
     "output_type": "display_data"
    }
   ],
   "source": [
    "print(\"Shape y_train = \",y_train.shape)\n",
    "print(\"Shape y_test = \",y_test.shape)\n",
    "\n",
    "\n",
    "# Plot Training\n",
    "fig = plt.figure(figsize=(6,6))\n",
    "plt.hist(y_train.reshape(y_train.shape[0],1), bins=20)\n",
    "plt.title(\"Train Data Frequency for the Output feature\")\n",
    "plt.xlabel(\"Possible feature types\")\n",
    "plt.ylabel(\"Count\")\n",
    "plt.show()\n",
    "\n",
    "# Plot Testing\n",
    "plt.hist(y_test.reshape(y_test.shape[0],1), bins=20)\n",
    "plt.title(\"Test Data Frequency for the Output feature\")\n",
    "plt.xlabel(\"Possible feature types\")\n",
    "plt.ylabel(\"Count\")\n",
    "plt.show()\n",
    "\n",
    "#Look like that output data is equally distributed among all the possible outputs."
   ]
  },
  {
   "cell_type": "markdown",
   "metadata": {
    "colab_type": "text",
    "id": "WIwJtdUkV4Ov"
   },
   "source": [
    "# Preprocessing"
   ]
  },
  {
   "cell_type": "markdown",
   "metadata": {
    "colab_type": "text",
    "id": "lMmUIotTV4O5"
   },
   "source": [
    "### OneHot Encoding:\n",
    "- Encode the output features using one-hot encoding for the training and test data\n",
    "\n",
    "**One hot encoding is a process by which categorical variables are converted into a form that could be provided to ML algorithms to do a better job in prediction**"
   ]
  },
  {
   "cell_type": "code",
   "execution_count": 22,
   "metadata": {
    "colab": {
     "base_uri": "https://localhost:8080/",
     "height": 255
    },
    "colab_type": "code",
    "executionInfo": {
     "elapsed": 591,
     "status": "ok",
     "timestamp": 1544147218472,
     "user": {
      "displayName": "I110320 M.Abubakar",
      "photoUrl": "https://lh4.googleusercontent.com/-RQ9G8JDj-0A/AAAAAAAAAAI/AAAAAAAAAAA/f9dkI-cWZBA/s64/photo.jpg",
      "userId": "17893374916846866038"
     },
     "user_tz": 0
    },
    "id": "BEDweneVV4O8",
    "outputId": "1f732e4d-232e-46b2-a691-d4f004633416"
   },
   "outputs": [
    {
     "name": "stdout",
     "output_type": "stream",
     "text": [
      "[[0. 0. 0. ... 0. 0. 1.]\n",
      " [1. 0. 0. ... 0. 0. 0.]\n",
      " [1. 0. 0. ... 0. 0. 0.]\n",
      " ...\n",
      " [0. 0. 0. ... 0. 0. 0.]\n",
      " [1. 0. 0. ... 0. 0. 0.]\n",
      " [0. 0. 0. ... 0. 0. 0.]]\n",
      "[[0. 0. 0. ... 0. 0. 1.]\n",
      " [0. 0. 1. ... 0. 0. 0.]\n",
      " [0. 1. 0. ... 0. 0. 0.]\n",
      " ...\n",
      " [0. 0. 0. ... 0. 1. 0.]\n",
      " [0. 1. 0. ... 0. 0. 0.]\n",
      " [0. 0. 0. ... 0. 0. 0.]]\n"
     ]
    }
   ],
   "source": [
    "### Answer B3\n",
    "y_OneHotEncoder = OneHotEncoder(sparse=False)\n",
    "y_OneHotEncoder.fit(y_test.reshape(-1,1))\n",
    "y_binary_train = y_OneHotEncoder.transform(y_train.reshape(-1,1))\n",
    "y_binary_test = y_OneHotEncoder.transform(y_test.reshape(-1,1))\n",
    "\n",
    "print(y_binary_train)\n",
    "print(y_binary_test)"
   ]
  },
  {
   "cell_type": "markdown",
   "metadata": {
    "colab_type": "text",
    "id": "BYmgiJQaV4PH"
   },
   "source": [
    "Our neural network and the below 'ImageDataGenerator' function expects each image sample to be of a specific format. Therefore it is necessary to reshape each image in our datasets to the expected format. The expected format is structured so that the indices correspond to [samples][width][height][channel].\n",
    "\n",
    "It is also good to cast the data from integer to floating point numbers."
   ]
  },
  {
   "cell_type": "code",
   "execution_count": 23,
   "metadata": {
    "colab": {
     "base_uri": "https://localhost:8080/",
     "height": 85
    },
    "colab_type": "code",
    "executionInfo": {
     "elapsed": 1161,
     "status": "ok",
     "timestamp": 1544147221384,
     "user": {
      "displayName": "I110320 M.Abubakar",
      "photoUrl": "https://lh4.googleusercontent.com/-RQ9G8JDj-0A/AAAAAAAAAAI/AAAAAAAAAAA/f9dkI-cWZBA/s64/photo.jpg",
      "userId": "17893374916846866038"
     },
     "user_tz": 0
    },
    "id": "ykVHvtBnV4PJ",
    "outputId": "87dd7d80-64b3-464d-a4e6-6e65839bc8c6"
   },
   "outputs": [
    {
     "name": "stdout",
     "output_type": "stream",
     "text": [
      "Shape of X_train:\t (60000, 28, 28)\n",
      "Shape of X_test:\t (10000, 28, 28)\n",
      "Shape of X_train_reshaped:\t (60000, 28, 28, 1) uint8\n",
      "Shape of X_test_reshaped:\t (10000, 28, 28, 1) uint8\n"
     ]
    }
   ],
   "source": [
    "'''Lets see what is the current shape of data'''\n",
    "print(\"Shape of X_train:\\t\",X_train.shape)\n",
    "print(\"Shape of X_test:\\t\",X_test.shape)\n",
    "\n",
    "# reshape to be [samples][width][height][channel]\n",
    "# use reshape(-1,28,28,1) as (add new col, 28, 28, size)\n",
    "X_train_reshaped = X_train.reshape(-1,28,28,1)\n",
    "X_test_reshaped = X_test.reshape(-1,28,28,1)\n",
    "\n",
    "'''New shape with the datatype of data'''\n",
    "print(\"Shape of X_train_reshaped:\\t\",X_train_reshaped.shape, X_train_reshaped.dtype)\n",
    "print(\"Shape of X_test_reshaped:\\t\",X_test_reshaped.shape, X_test_reshaped.dtype)\n",
    "\n",
    "\n",
    "# convert from int to float\n",
    "X_train_reshaped = X_train_reshaped.astype(float)\n",
    "X_test_reshaped = X_test_reshaped.astype(float)"
   ]
  },
  {
   "cell_type": "markdown",
   "metadata": {
    "colab_type": "text",
    "id": "tw1zVOBHV4PZ"
   },
   "source": [
    "### ImageDataGenerator:\n",
    "**Note:** If you augment your training data using a generator defined by 'ImageDataGenerator', it is important that you do **not** use the same generator for the testing data. Therefore, if you decide to augment your dataset, you will need to specify a second generator which scales in the same way as the training generator but does not augment your dataset. If you do not augment your dataset, the same generator can be used for training and testing datasets (but you must still fit the generator on only the training dataset)."
   ]
  },
  {
   "cell_type": "code",
   "execution_count": 25,
   "metadata": {
    "colab": {
     "base_uri": "https://localhost:8080/",
     "height": 302
    },
    "colab_type": "code",
    "executionInfo": {
     "elapsed": 2012,
     "status": "ok",
     "timestamp": 1544147225484,
     "user": {
      "displayName": "I110320 M.Abubakar",
      "photoUrl": "https://lh4.googleusercontent.com/-RQ9G8JDj-0A/AAAAAAAAAAI/AAAAAAAAAAA/f9dkI-cWZBA/s64/photo.jpg",
      "userId": "17893374916846866038"
     },
     "user_tz": 0
    },
    "id": "aYS9HkioV4Pc",
    "outputId": "9175f27a-8925-459d-f1b8-60404f143b5e"
   },
   "outputs": [
    {
     "name": "stdout",
     "output_type": "stream",
     "text": [
      "X_train_reshaped shape:\t (60000, 28, 28, 1)\n",
      "X_test_reshaped shape:\t (10000, 28, 28, 1)\n"
     ]
    },
    {
     "data": {
      "image/png": "[encoded data removed]",
      "text/plain": [
       "<Figure size 432x288 with 9 Axes>"
      ]
     },
     "metadata": {},
     "output_type": "display_data"
    }
   ],
   "source": [
    "from keras.preprocessing.image import ImageDataGenerator\n",
    "\n",
    "# Define Image Data Generator\n",
    "datagen_train = ImageDataGenerator(rescale = 1./255,\n",
    "                                   shear_range = 0.2,\n",
    "                                   zoom_range = 0.2,\n",
    "                                   horizontal_flip = True)\n",
    "\n",
    "datagen_test = ImageDataGenerator(rescale= 1./255)\n",
    "\n",
    "\n",
    "# Fit parameters from data\n",
    "datagen_train.fit(X_train_reshaped)\n",
    "datagen_test.fit(X_test_reshaped)\n",
    "\n",
    "print(\"X_train_reshaped shape:\\t\",X_train_reshaped.shape)\n",
    "print(\"X_test_reshaped shape:\\t\",X_test_reshaped.shape)\n",
    "\n",
    "j = 0\n",
    "# configure batch size and retrieve one batch of images\n",
    "for X_batch, y_batch in datagen_train.flow(X_train_reshaped, y_binary_train, batch_size=9):\n",
    "    # create a grid of 3x3 images\n",
    "    for i in range(0, 9):\n",
    "        plt.subplot(330 + 1 + i)\n",
    "        plt.imshow(X_batch[i].reshape(28, 28), cmap=plt.get_cmap('gray'))\n",
    "    # show the plot\n",
    "    plt.show()\n",
    "    break"
   ]
  },
  {
   "cell_type": "markdown",
   "metadata": {
    "colab_type": "text",
    "id": "NX5Xih8SV4Pw"
   },
   "source": [
    "# Define CNN"
   ]
  },
  {
   "cell_type": "markdown",
   "metadata": {
    "colab_type": "text",
    "id": "fquLGVVwV4P3"
   },
   "source": [
    "- Lets Define a neural network which classifies an input sample. The neural network is structured as follows:\n",
    "    - An input convolutional layer with multiple filters. You must ensure your **'input_shape'** parameter is set appropriately. An appropriate filter size for the image size should be chosen.\n",
    "    - A Max Pooling layer with an appropriate size\n",
    "    - A second convolutional layer with appropriate parameters\n",
    "    - A second Max Pooling layer\n",
    "    - You can add more convolution and pooling layers if you wish\n",
    "    - Ensure you 'flatten' your outputs before they are inputted to your fully connected layers\n",
    "    - Your choice of fully connected layers\n",
    "    - A fully connected output layer\n",
    "    - Finally, Compile your model using an appropriate choice of optimizer and loss function. Ensure you collect the 'accuracy' metric\n"
   ]
  },
  {
   "cell_type": "code",
   "execution_count": 28,
   "metadata": {
    "colab": {},
    "colab_type": "code",
    "id": "183XvNEpV4P5"
   },
   "outputs": [],
   "source": [
    "from keras.models import Sequential\n",
    "from keras.layers import Conv2D\n",
    "from keras.layers import MaxPooling2D\n",
    "from keras.layers import Flatten\n",
    "from keras.layers import Dense\n",
    "from keras.layers import Dropout\n",
    "from keras.layers.normalization import BatchNormalization\n",
    "\n",
    "# Define neural network:\n",
    "net = Sequential()\n",
    "\n",
    "# Input Convolution Layer\n",
    "#keras.layers.Conv2D(filters, kernel_size, strides=(1, 1), padding='valid', data_format=None, dilation_rate=(1, 1),\n",
    "#                   activation=None, use_bias=True, kernel_initializer='glorot_uniform', bias_initializer='zeros', \n",
    "#   kernel_regularizer=None, bias_regularizer=None, activity_regularizer=None, kernel_constraint=None, bias_constraint=None)\n",
    "\n",
    "net.add(Conv2D(64, (3), input_shape=(28,28,1), activation='relu'))\n",
    "\n",
    "#Normalize the input layer's data\n",
    "#net.add(BatchNormalization())\n",
    "# Max Pooling\n",
    "net.add(MaxPooling2D(pool_size=(2,2)))\n",
    "net.add(Dropout(0.1))\n",
    "\n",
    "# Second Convolution Layer\n",
    "net.add(Conv2D(128, (3), input_shape=(13, 13, 64), activation='relu'))\n",
    "# Max Pooling\n",
    "net.add(MaxPooling2D(pool_size=(2,2)))\n",
    "net.add(Dropout(0.2))\n",
    "\n",
    "\n",
    "# Insert more Convolution and/or Pooling layers if you desire here\n",
    "net.add(Conv2D(256, (3), input_shape=(5, 5, 128), activation='relu'))\n",
    "# Max Pooling\n",
    "net.add(MaxPooling2D(pool_size=(2,2)))\n",
    "# Flatten from matrix to array for input to fully connected layers\n",
    "net.add(Flatten())\n",
    "\n",
    "# Insert fully connected layers here\n",
    "net.add(Dense(units=64, activation='relu'))\n",
    "\n",
    "# Define Fully Connected Output Layer\n",
    "net.add(Dense(units=10, activation='softmax'))\n",
    "\n",
    "# Compile model\n",
    "net.compile(optimizer = 'adam', loss = 'categorical_crossentropy', metrics = ['accuracy'])"
   ]
  },
  {
   "cell_type": "markdown",
   "metadata": {
    "colab_type": "text",
    "id": "EsCkeyOMV4QC"
   },
   "source": [
    "- Output the summary of your neural network. Ensure the number of weights in your network is appropriate for the number of samples the model will be trained on "
   ]
  },
  {
   "cell_type": "code",
   "execution_count": 27,
   "metadata": {
    "colab": {
     "base_uri": "https://localhost:8080/",
     "height": 510
    },
    "colab_type": "code",
    "executionInfo": {
     "elapsed": 1119,
     "status": "ok",
     "timestamp": 1544152668870,
     "user": {
      "displayName": "I110320 M.Abubakar",
      "photoUrl": "https://lh4.googleusercontent.com/-RQ9G8JDj-0A/AAAAAAAAAAI/AAAAAAAAAAA/f9dkI-cWZBA/s64/photo.jpg",
      "userId": "17893374916846866038"
     },
     "user_tz": 0
    },
    "id": "ZZPGIwzLV4QE",
    "outputId": "2a559e38-0981-4b3c-9ffe-2764599a0f08"
   },
   "outputs": [
    {
     "name": "stdout",
     "output_type": "stream",
     "text": [
      "_________________________________________________________________\n",
      "Layer (type)                 Output Shape              Param #   \n",
      "=================================================================\n",
      "conv2d_1 (Conv2D)            (None, 26, 26, 64)        640       \n",
      "_________________________________________________________________\n",
      "max_pooling2d_1 (MaxPooling2 (None, 13, 13, 64)        0         \n",
      "_________________________________________________________________\n",
      "dropout_1 (Dropout)          (None, 13, 13, 64)        0         \n",
      "_________________________________________________________________\n",
      "conv2d_2 (Conv2D)            (None, 11, 11, 128)       73856     \n",
      "_________________________________________________________________\n",
      "max_pooling2d_2 (MaxPooling2 (None, 5, 5, 128)         0         \n",
      "_________________________________________________________________\n",
      "dropout_2 (Dropout)          (None, 5, 5, 128)         0         \n",
      "_________________________________________________________________\n",
      "conv2d_3 (Conv2D)            (None, 3, 3, 256)         295168    \n",
      "_________________________________________________________________\n",
      "max_pooling2d_3 (MaxPooling2 (None, 1, 1, 256)         0         \n",
      "_________________________________________________________________\n",
      "flatten_1 (Flatten)          (None, 256)               0         \n",
      "_________________________________________________________________\n",
      "dense_1 (Dense)              (None, 64)                16448     \n",
      "_________________________________________________________________\n",
      "dense_2 (Dense)              (None, 10)                650       \n",
      "=================================================================\n",
      "Total params: 386,762\n",
      "Trainable params: 386,762\n",
      "Non-trainable params: 0\n",
      "_________________________________________________________________\n"
     ]
    }
   ],
   "source": [
    "net.summary()"
   ]
  },
  {
   "cell_type": "markdown",
   "metadata": {
    "colab_type": "text",
    "id": "sdVXv_1wV4QX"
   },
   "source": [
    "# Train and Evaluate Model in Batches"
   ]
  },
  {
   "cell_type": "markdown",
   "metadata": {
    "colab_type": "text",
    "id": "beKmnnhRV4QZ"
   },
   "source": [
    "\n",
    "- Fit your neural network in batches using the test set to generate validation metrics for each epoch during training (validate in batches too). Note:\n",
    "    - you should use the 'fit_generator' routine to fit the model (see docs: https://keras.io/models/sequential/)\n",
    "    - the 'generator' argument should be the 'flow' routine called on the data generator previously defined with the appropriate dataset\n",
    "    - the argument to conduct the validation should similarly be set to the generator with the appropriate dataset\n",
    "    - a relatively small number of epochs is needed to train your model (it will take quite a while to complete). Try starting with 25 epochs and adjust if required"
   ]
  },
  {
   "cell_type": "code",
   "execution_count": 61,
   "metadata": {
    "colab": {
     "base_uri": "https://localhost:8080/",
     "height": 17068
    },
    "colab_type": "code",
    "executionInfo": {
     "elapsed": 2477614,
     "status": "ok",
     "timestamp": 1544155174844,
     "user": {
      "displayName": "I110320 M.Abubakar",
      "photoUrl": "https://lh4.googleusercontent.com/-RQ9G8JDj-0A/AAAAAAAAAAI/AAAAAAAAAAA/f9dkI-cWZBA/s64/photo.jpg",
      "userId": "17893374916846866038"
     },
     "user_tz": 0
    },
    "id": "VExXDmURV4Qb",
    "outputId": "f92fd23e-19a3-4fad-8cd9-864946d632db",
    "scrolled": true
   },
   "outputs": [
    {
     "name": "stdout",
     "output_type": "stream",
     "text": [
      "Length of trainig set:\t 4000 \n",
      "no of steps:\t 266\n",
      "Epoch 1/500\n",
      "266/266 [==============================] - 6s 23ms/step - loss: 1.1509 - acc: 0.5672 - val_loss: 0.7768 - val_acc: 0.7095\n",
      "Epoch 2/500\n",
      "266/266 [==============================] - 5s 18ms/step - loss: 0.7609 - acc: 0.7180 - val_loss: 0.7318 - val_acc: 0.7288\n",
      "Epoch 3/500\n",
      "266/266 [==============================] - 5s 19ms/step - loss: 0.7155 - acc: 0.7281 - val_loss: 0.6361 - val_acc: 0.7541\n",
      "Epoch 4/500\n",
      "266/266 [==============================] - 5s 18ms/step - loss: 0.6567 - acc: 0.7599 - val_loss: 0.6405 - val_acc: 0.7499\n",
      "Epoch 5/500\n",
      "266/266 [==============================] - 5s 19ms/step - loss: 0.6335 - acc: 0.7604 - val_loss: 0.5826 - val_acc: 0.7810\n",
      "Epoch 6/500\n",
      "266/266 [==============================] - 5s 19ms/step - loss: 0.6473 - acc: 0.7504 - val_loss: 0.5708 - val_acc: 0.7804\n",
      "Epoch 7/500\n",
      "266/266 [==============================] - 5s 18ms/step - loss: 0.5858 - acc: 0.7779 - val_loss: 0.5659 - val_acc: 0.7812\n",
      "Epoch 8/500\n",
      "266/266 [==============================] - 5s 18ms/step - loss: 0.5777 - acc: 0.7860 - val_loss: 0.5103 - val_acc: 0.8073\n",
      "Epoch 9/500\n",
      "266/266 [==============================] - 5s 19ms/step - loss: 0.5583 - acc: 0.7885 - val_loss: 0.5665 - val_acc: 0.7905\n",
      "Epoch 10/500\n",
      "266/266 [==============================] - 5s 19ms/step - loss: 0.5299 - acc: 0.7997 - val_loss: 0.4897 - val_acc: 0.8213\n",
      "Epoch 11/500\n",
      "266/266 [==============================] - 5s 19ms/step - loss: 0.5380 - acc: 0.7960 - val_loss: 0.4972 - val_acc: 0.7932\n",
      "Epoch 12/500\n",
      "266/266 [==============================] - 5s 19ms/step - loss: 0.5338 - acc: 0.8005 - val_loss: 0.4718 - val_acc: 0.8276\n",
      "Epoch 13/500\n",
      "266/266 [==============================] - 5s 19ms/step - loss: 0.5146 - acc: 0.8018 - val_loss: 0.5477 - val_acc: 0.7897\n",
      "Epoch 14/500\n",
      "266/266 [==============================] - 5s 18ms/step - loss: 0.5274 - acc: 0.8080 - val_loss: 0.4896 - val_acc: 0.8110\n",
      "Epoch 15/500\n",
      "266/266 [==============================] - 5s 19ms/step - loss: 0.5166 - acc: 0.8005 - val_loss: 0.4646 - val_acc: 0.8341\n",
      "Epoch 16/500\n",
      "266/266 [==============================] - 5s 19ms/step - loss: 0.4866 - acc: 0.8180 - val_loss: 0.4700 - val_acc: 0.8263\n",
      "Epoch 17/500\n",
      "266/266 [==============================] - 5s 18ms/step - loss: 0.4842 - acc: 0.8248 - val_loss: 0.4258 - val_acc: 0.8479\n",
      "Epoch 18/500\n",
      "266/266 [==============================] - 5s 18ms/step - loss: 0.4780 - acc: 0.8198 - val_loss: 0.4636 - val_acc: 0.8329\n",
      "Epoch 19/500\n",
      "266/266 [==============================] - 5s 18ms/step - loss: 0.4964 - acc: 0.8143 - val_loss: 0.4272 - val_acc: 0.8444\n",
      "Epoch 20/500\n",
      "266/266 [==============================] - 5s 18ms/step - loss: 0.4692 - acc: 0.8301 - val_loss: 0.4374 - val_acc: 0.8398\n",
      "Epoch 21/500\n",
      "266/266 [==============================] - 5s 18ms/step - loss: 0.4367 - acc: 0.8323 - val_loss: 0.4362 - val_acc: 0.8371\n",
      "Epoch 22/500\n",
      "266/266 [==============================] - 5s 19ms/step - loss: 0.4536 - acc: 0.8331 - val_loss: 0.4581 - val_acc: 0.8328\n",
      "Epoch 23/500\n",
      "266/266 [==============================] - 5s 18ms/step - loss: 0.4607 - acc: 0.8303 - val_loss: 0.4247 - val_acc: 0.8424\n",
      "Epoch 24/500\n",
      "266/266 [==============================] - 5s 18ms/step - loss: 0.4581 - acc: 0.8266 - val_loss: 0.4909 - val_acc: 0.8130\n",
      "Epoch 25/500\n",
      "266/266 [==============================] - 5s 18ms/step - loss: 0.4522 - acc: 0.8328 - val_loss: 0.4266 - val_acc: 0.8516\n",
      "Epoch 26/500\n",
      "266/266 [==============================] - 5s 19ms/step - loss: 0.4459 - acc: 0.8358 - val_loss: 0.3958 - val_acc: 0.8575\n",
      "Epoch 27/500\n",
      "266/266 [==============================] - 5s 19ms/step - loss: 0.4303 - acc: 0.8376 - val_loss: 0.4406 - val_acc: 0.8388\n",
      "Epoch 28/500\n",
      "266/266 [==============================] - 5s 18ms/step - loss: 0.4412 - acc: 0.8348 - val_loss: 0.4052 - val_acc: 0.8489\n",
      "Epoch 29/500\n",
      "266/266 [==============================] - 5s 18ms/step - loss: 0.4425 - acc: 0.8343 - val_loss: 0.3921 - val_acc: 0.8546\n",
      "Epoch 30/500\n",
      "266/266 [==============================] - 5s 18ms/step - loss: 0.4620 - acc: 0.8268 - val_loss: 0.3791 - val_acc: 0.8652\n",
      "Epoch 31/500\n",
      "266/266 [==============================] - 5s 19ms/step - loss: 0.4283 - acc: 0.8378 - val_loss: 0.4223 - val_acc: 0.8462\n",
      "Epoch 32/500\n",
      "266/266 [==============================] - 5s 18ms/step - loss: 0.4228 - acc: 0.8436 - val_loss: 0.4249 - val_acc: 0.8393\n",
      "Epoch 33/500\n",
      "266/266 [==============================] - 5s 18ms/step - loss: 0.4252 - acc: 0.8426 - val_loss: 0.4212 - val_acc: 0.8399\n",
      "Epoch 34/500\n",
      "266/266 [==============================] - 5s 18ms/step - loss: 0.4127 - acc: 0.8459 - val_loss: 0.4468 - val_acc: 0.8333\n",
      "Epoch 35/500\n",
      "266/266 [==============================] - 5s 19ms/step - loss: 0.4039 - acc: 0.8439 - val_loss: 0.3968 - val_acc: 0.8534\n",
      "Epoch 36/500\n",
      "266/266 [==============================] - 5s 19ms/step - loss: 0.4310 - acc: 0.8316 - val_loss: 0.3825 - val_acc: 0.8590\n",
      "Epoch 37/500\n",
      "266/266 [==============================] - 5s 18ms/step - loss: 0.4155 - acc: 0.8421 - val_loss: 0.4200 - val_acc: 0.8456\n",
      "Epoch 38/500\n",
      "266/266 [==============================] - 5s 18ms/step - loss: 0.4330 - acc: 0.8368 - val_loss: 0.4024 - val_acc: 0.8484\n",
      "Epoch 39/500\n",
      "266/266 [==============================] - 5s 19ms/step - loss: 0.4107 - acc: 0.8536 - val_loss: 0.4042 - val_acc: 0.8509\n",
      "Epoch 40/500\n",
      "266/266 [==============================] - 5s 19ms/step - loss: 0.4122 - acc: 0.8516 - val_loss: 0.3576 - val_acc: 0.8674\n",
      "Epoch 41/500\n",
      "266/266 [==============================] - 5s 18ms/step - loss: 0.4068 - acc: 0.8501 - val_loss: 0.3820 - val_acc: 0.8605\n",
      "Epoch 42/500\n",
      "266/266 [==============================] - 5s 18ms/step - loss: 0.3831 - acc: 0.8556 - val_loss: 0.3596 - val_acc: 0.8697\n",
      "Epoch 43/500\n",
      "266/266 [==============================] - 5s 19ms/step - loss: 0.4355 - acc: 0.8416 - val_loss: 0.3639 - val_acc: 0.8660\n",
      "Epoch 44/500\n",
      "266/266 [==============================] - 5s 19ms/step - loss: 0.4192 - acc: 0.8459 - val_loss: 0.3757 - val_acc: 0.8634\n",
      "Epoch 45/500\n",
      "266/266 [==============================] - 5s 18ms/step - loss: 0.4002 - acc: 0.8504 - val_loss: 0.3556 - val_acc: 0.8687\n",
      "Epoch 46/500\n",
      "266/266 [==============================] - 5s 19ms/step - loss: 0.3931 - acc: 0.8486 - val_loss: 0.4005 - val_acc: 0.8547\n",
      "Epoch 47/500\n",
      "266/266 [==============================] - 5s 19ms/step - loss: 0.3813 - acc: 0.8591 - val_loss: 0.4150 - val_acc: 0.8424\n",
      "Epoch 48/500\n",
      "266/266 [==============================] - 5s 19ms/step - loss: 0.3930 - acc: 0.8614 - val_loss: 0.3895 - val_acc: 0.8590\n",
      "Epoch 49/500\n",
      "266/266 [==============================] - 5s 18ms/step - loss: 0.3844 - acc: 0.8531 - val_loss: 0.3890 - val_acc: 0.8622\n",
      "Epoch 50/500\n",
      "266/266 [==============================] - 5s 19ms/step - loss: 0.4059 - acc: 0.8486 - val_loss: 0.3592 - val_acc: 0.8697\n",
      "Epoch 51/500\n",
      "266/266 [==============================] - 5s 18ms/step - loss: 0.3979 - acc: 0.8581 - val_loss: 0.3651 - val_acc: 0.8655\n",
      "Epoch 52/500\n",
      "266/266 [==============================] - 5s 19ms/step - loss: 0.3976 - acc: 0.8441 - val_loss: 0.3479 - val_acc: 0.8692\n",
      "Epoch 53/500\n",
      "266/266 [==============================] - 5s 19ms/step - loss: 0.4077 - acc: 0.8429 - val_loss: 0.3660 - val_acc: 0.8708\n",
      "Epoch 54/500\n",
      "266/266 [==============================] - 5s 19ms/step - loss: 0.3936 - acc: 0.8506 - val_loss: 0.3488 - val_acc: 0.8747\n",
      "Epoch 55/500\n",
      "266/266 [==============================] - 5s 19ms/step - loss: 0.3924 - acc: 0.8506 - val_loss: 0.3707 - val_acc: 0.8619\n",
      "Epoch 56/500\n",
      "266/266 [==============================] - 5s 19ms/step - loss: 0.4227 - acc: 0.8476 - val_loss: 0.3666 - val_acc: 0.8710\n",
      "Epoch 57/500\n",
      "266/266 [==============================] - 5s 18ms/step - loss: 0.3791 - acc: 0.8642 - val_loss: 0.3918 - val_acc: 0.8506\n",
      "Epoch 58/500\n",
      "266/266 [==============================] - 5s 19ms/step - loss: 0.4001 - acc: 0.8499 - val_loss: 0.3236 - val_acc: 0.8788\n",
      "Epoch 59/500\n",
      "266/266 [==============================] - 5s 19ms/step - loss: 0.3727 - acc: 0.8584 - val_loss: 0.3728 - val_acc: 0.8674\n",
      "Epoch 60/500\n",
      "266/266 [==============================] - 5s 19ms/step - loss: 0.3782 - acc: 0.8516 - val_loss: 0.3467 - val_acc: 0.8727\n",
      "Epoch 61/500\n",
      "266/266 [==============================] - 5s 18ms/step - loss: 0.3998 - acc: 0.8489 - val_loss: 0.3681 - val_acc: 0.8695\n",
      "Epoch 62/500\n",
      "266/266 [==============================] - 5s 19ms/step - loss: 0.3754 - acc: 0.8571 - val_loss: 0.3512 - val_acc: 0.8669\n",
      "Epoch 63/500\n",
      "266/266 [==============================] - 5s 19ms/step - loss: 0.3810 - acc: 0.8566 - val_loss: 0.4092 - val_acc: 0.8590\n",
      "Epoch 64/500\n",
      "266/266 [==============================] - 5s 19ms/step - loss: 0.3675 - acc: 0.8617 - val_loss: 0.3596 - val_acc: 0.8694\n",
      "Epoch 65/500\n",
      "266/266 [==============================] - 5s 19ms/step - loss: 0.3708 - acc: 0.8599 - val_loss: 0.3653 - val_acc: 0.8689\n",
      "Epoch 66/500\n",
      "266/266 [==============================] - 5s 19ms/step - loss: 0.3759 - acc: 0.8674 - val_loss: 0.3447 - val_acc: 0.8688\n",
      "Epoch 67/500\n",
      "266/266 [==============================] - 5s 19ms/step - loss: 0.3740 - acc: 0.8584 - val_loss: 0.3519 - val_acc: 0.8697\n",
      "Epoch 68/500\n",
      "266/266 [==============================] - 5s 19ms/step - loss: 0.3698 - acc: 0.8561 - val_loss: 0.3827 - val_acc: 0.8610\n",
      "Epoch 69/500\n",
      "266/266 [==============================] - 5s 18ms/step - loss: 0.3872 - acc: 0.8551 - val_loss: 0.3754 - val_acc: 0.8649\n",
      "Epoch 70/500\n",
      "266/266 [==============================] - 5s 19ms/step - loss: 0.3854 - acc: 0.8581 - val_loss: 0.3558 - val_acc: 0.8684\n",
      "Epoch 71/500\n",
      "266/266 [==============================] - 5s 19ms/step - loss: 0.3736 - acc: 0.8604 - val_loss: 0.3565 - val_acc: 0.8647\n",
      "Epoch 72/500\n",
      "266/266 [==============================] - 5s 19ms/step - loss: 0.3734 - acc: 0.8632 - val_loss: 0.3531 - val_acc: 0.8712\n",
      "Epoch 73/500\n",
      "266/266 [==============================] - 5s 19ms/step - loss: 0.3630 - acc: 0.8652 - val_loss: 0.3565 - val_acc: 0.8755\n",
      "Epoch 74/500\n",
      "266/266 [==============================] - 5s 18ms/step - loss: 0.3676 - acc: 0.8662 - val_loss: 0.3648 - val_acc: 0.8639\n",
      "Epoch 75/500\n",
      "266/266 [==============================] - 5s 19ms/step - loss: 0.3797 - acc: 0.8521 - val_loss: 0.3381 - val_acc: 0.8699\n",
      "Epoch 76/500\n",
      "266/266 [==============================] - 5s 19ms/step - loss: 0.3637 - acc: 0.8617 - val_loss: 0.3634 - val_acc: 0.8725\n",
      "Epoch 77/500\n",
      "266/266 [==============================] - 5s 19ms/step - loss: 0.3639 - acc: 0.8669 - val_loss: 0.3832 - val_acc: 0.8561\n",
      "Epoch 78/500\n",
      "266/266 [==============================] - 5s 18ms/step - loss: 0.3504 - acc: 0.8609 - val_loss: 0.3220 - val_acc: 0.8851\n",
      "Epoch 79/500\n",
      "266/266 [==============================] - 5s 19ms/step - loss: 0.3503 - acc: 0.8624 - val_loss: 0.3571 - val_acc: 0.8682\n",
      "Epoch 80/500\n",
      "266/266 [==============================] - 5s 18ms/step - loss: 0.3782 - acc: 0.8586 - val_loss: 0.3539 - val_acc: 0.8737\n",
      "Epoch 81/500\n",
      "266/266 [==============================] - 5s 19ms/step - loss: 0.3792 - acc: 0.8574 - val_loss: 0.3467 - val_acc: 0.8718\n",
      "Epoch 82/500\n",
      "266/266 [==============================] - 5s 19ms/step - loss: 0.3644 - acc: 0.8659 - val_loss: 0.3554 - val_acc: 0.8734\n",
      "Epoch 83/500\n",
      "266/266 [==============================] - 5s 19ms/step - loss: 0.3582 - acc: 0.8682 - val_loss: 0.3557 - val_acc: 0.8665\n",
      "Epoch 84/500\n",
      "266/266 [==============================] - 5s 19ms/step - loss: 0.3705 - acc: 0.8584 - val_loss: 0.3301 - val_acc: 0.8794\n",
      "Epoch 85/500\n",
      "266/266 [==============================] - 5s 19ms/step - loss: 0.3577 - acc: 0.8674 - val_loss: 0.3510 - val_acc: 0.8677\n",
      "Epoch 86/500\n",
      "266/266 [==============================] - 5s 18ms/step - loss: 0.3706 - acc: 0.8637 - val_loss: 0.3750 - val_acc: 0.8592\n",
      "Epoch 87/500\n",
      "266/266 [==============================] - 5s 18ms/step - loss: 0.3706 - acc: 0.8664 - val_loss: 0.3492 - val_acc: 0.8719\n",
      "Epoch 88/500\n",
      "266/266 [==============================] - 5s 19ms/step - loss: 0.3800 - acc: 0.8624 - val_loss: 0.3385 - val_acc: 0.8750\n",
      "Epoch 89/500\n",
      "266/266 [==============================] - 5s 19ms/step - loss: 0.3583 - acc: 0.8649 - val_loss: 0.3491 - val_acc: 0.8752\n",
      "Epoch 90/500\n",
      "266/266 [==============================] - 5s 18ms/step - loss: 0.3776 - acc: 0.8569 - val_loss: 0.3643 - val_acc: 0.8607\n",
      "Epoch 91/500\n",
      "266/266 [==============================] - 5s 19ms/step - loss: 0.3476 - acc: 0.8734 - val_loss: 0.3268 - val_acc: 0.8788\n",
      "Epoch 92/500\n",
      "266/266 [==============================] - 5s 18ms/step - loss: 0.3436 - acc: 0.8707 - val_loss: 0.3446 - val_acc: 0.8692\n",
      "Epoch 93/500\n",
      "266/266 [==============================] - 5s 18ms/step - loss: 0.3508 - acc: 0.8682 - val_loss: 0.3750 - val_acc: 0.8650\n",
      "Epoch 94/500\n",
      "266/266 [==============================] - 5s 18ms/step - loss: 0.3400 - acc: 0.8734 - val_loss: 0.3874 - val_acc: 0.8589\n",
      "Epoch 95/500\n",
      "266/266 [==============================] - 5s 18ms/step - loss: 0.3637 - acc: 0.8654 - val_loss: 0.3456 - val_acc: 0.8794\n",
      "Epoch 96/500\n",
      "266/266 [==============================] - 5s 18ms/step - loss: 0.3619 - acc: 0.8749 - val_loss: 0.3437 - val_acc: 0.8816\n",
      "Epoch 97/500\n",
      "266/266 [==============================] - 5s 18ms/step - loss: 0.3637 - acc: 0.8657 - val_loss: 0.3468 - val_acc: 0.8707\n",
      "Epoch 98/500\n",
      "266/266 [==============================] - 5s 18ms/step - loss: 0.3560 - acc: 0.8697 - val_loss: 0.3378 - val_acc: 0.8705\n",
      "Epoch 99/500\n",
      "266/266 [==============================] - 5s 18ms/step - loss: 0.3599 - acc: 0.8662 - val_loss: 0.3670 - val_acc: 0.8702\n",
      "Epoch 100/500\n",
      "266/266 [==============================] - 5s 18ms/step - loss: 0.3722 - acc: 0.8619 - val_loss: 0.3561 - val_acc: 0.8627\n",
      "Epoch 101/500\n",
      "266/266 [==============================] - 5s 19ms/step - loss: 0.3674 - acc: 0.8667 - val_loss: 0.3347 - val_acc: 0.8801\n",
      "Epoch 102/500\n",
      "266/266 [==============================] - 5s 19ms/step - loss: 0.3450 - acc: 0.8742 - val_loss: 0.3372 - val_acc: 0.8774\n",
      "Epoch 103/500\n",
      "266/266 [==============================] - 5s 18ms/step - loss: 0.3635 - acc: 0.8622 - val_loss: 0.3576 - val_acc: 0.8680\n",
      "Epoch 104/500\n",
      "266/266 [==============================] - 5s 18ms/step - loss: 0.3467 - acc: 0.8644 - val_loss: 0.3408 - val_acc: 0.8732\n",
      "Epoch 105/500\n",
      "266/266 [==============================] - 5s 18ms/step - loss: 0.3685 - acc: 0.8596 - val_loss: 0.3463 - val_acc: 0.8729\n",
      "Epoch 106/500\n",
      "266/266 [==============================] - 5s 19ms/step - loss: 0.3468 - acc: 0.8759 - val_loss: 0.3204 - val_acc: 0.8831\n",
      "Epoch 107/500\n",
      "266/266 [==============================] - 5s 19ms/step - loss: 0.3409 - acc: 0.8717 - val_loss: 0.3520 - val_acc: 0.8754\n",
      "Epoch 108/500\n",
      "266/266 [==============================] - 5s 18ms/step - loss: 0.3585 - acc: 0.8689 - val_loss: 0.3323 - val_acc: 0.8823\n",
      "Epoch 109/500\n",
      "266/266 [==============================] - 5s 18ms/step - loss: 0.3609 - acc: 0.8657 - val_loss: 0.3512 - val_acc: 0.8679\n",
      "Epoch 110/500\n",
      "266/266 [==============================] - 5s 18ms/step - loss: 0.3523 - acc: 0.8749 - val_loss: 0.3689 - val_acc: 0.8669\n",
      "Epoch 111/500\n",
      "266/266 [==============================] - 5s 18ms/step - loss: 0.3667 - acc: 0.8649 - val_loss: 0.3703 - val_acc: 0.8602\n",
      "Epoch 112/500\n",
      "266/266 [==============================] - 5s 18ms/step - loss: 0.3491 - acc: 0.8699 - val_loss: 0.3389 - val_acc: 0.8722\n",
      "Epoch 113/500\n",
      "266/266 [==============================] - 5s 19ms/step - loss: 0.3509 - acc: 0.8734 - val_loss: 0.3162 - val_acc: 0.8783\n",
      "Epoch 114/500\n",
      "266/266 [==============================] - 5s 18ms/step - loss: 0.3276 - acc: 0.8777 - val_loss: 0.3536 - val_acc: 0.8657\n",
      "Epoch 115/500\n",
      "266/266 [==============================] - 5s 19ms/step - loss: 0.3264 - acc: 0.8759 - val_loss: 0.3316 - val_acc: 0.8802\n",
      "Epoch 116/500\n",
      "266/266 [==============================] - 5s 19ms/step - loss: 0.3339 - acc: 0.8792 - val_loss: 0.3639 - val_acc: 0.8595\n",
      "Epoch 117/500\n",
      "266/266 [==============================] - 5s 19ms/step - loss: 0.3676 - acc: 0.8634 - val_loss: 0.3374 - val_acc: 0.8729\n",
      "Epoch 118/500\n",
      "266/266 [==============================] - 5s 19ms/step - loss: 0.3350 - acc: 0.8737 - val_loss: 0.3379 - val_acc: 0.8745\n",
      "Epoch 119/500\n",
      "266/266 [==============================] - 5s 18ms/step - loss: 0.3435 - acc: 0.8742 - val_loss: 0.3129 - val_acc: 0.8885\n",
      "Epoch 120/500\n",
      "266/266 [==============================] - 5s 18ms/step - loss: 0.3539 - acc: 0.8667 - val_loss: 0.3495 - val_acc: 0.8739\n",
      "Epoch 121/500\n",
      "266/266 [==============================] - 5s 19ms/step - loss: 0.3369 - acc: 0.8767 - val_loss: 0.3136 - val_acc: 0.8868\n",
      "Epoch 122/500\n",
      "266/266 [==============================] - 5s 19ms/step - loss: 0.3397 - acc: 0.8752 - val_loss: 0.3361 - val_acc: 0.8669\n",
      "Epoch 123/500\n",
      "266/266 [==============================] - 5s 19ms/step - loss: 0.3410 - acc: 0.8762 - val_loss: 0.3739 - val_acc: 0.8673\n",
      "Epoch 124/500\n",
      "266/266 [==============================] - 5s 18ms/step - loss: 0.3253 - acc: 0.8769 - val_loss: 0.3120 - val_acc: 0.8825\n",
      "Epoch 125/500\n",
      "266/266 [==============================] - 5s 19ms/step - loss: 0.3225 - acc: 0.8777 - val_loss: 0.3348 - val_acc: 0.8867\n",
      "Epoch 126/500\n",
      "266/266 [==============================] - 5s 19ms/step - loss: 0.3469 - acc: 0.8682 - val_loss: 0.3221 - val_acc: 0.8831\n",
      "Epoch 127/500\n",
      "266/266 [==============================] - 5s 19ms/step - loss: 0.3524 - acc: 0.8679 - val_loss: 0.3507 - val_acc: 0.8707\n",
      "Epoch 128/500\n",
      "266/266 [==============================] - 5s 18ms/step - loss: 0.3479 - acc: 0.8732 - val_loss: 0.3427 - val_acc: 0.8790\n",
      "Epoch 129/500\n",
      "266/266 [==============================] - 5s 19ms/step - loss: 0.3494 - acc: 0.8779 - val_loss: 0.3347 - val_acc: 0.8757\n",
      "Epoch 130/500\n",
      "266/266 [==============================] - 5s 18ms/step - loss: 0.3450 - acc: 0.8704 - val_loss: 0.3156 - val_acc: 0.8845\n",
      "Epoch 131/500\n",
      "266/266 [==============================] - 5s 19ms/step - loss: 0.3455 - acc: 0.8709 - val_loss: 0.3404 - val_acc: 0.8765\n",
      "Epoch 132/500\n",
      "266/266 [==============================] - 5s 19ms/step - loss: 0.3455 - acc: 0.8742 - val_loss: 0.3001 - val_acc: 0.8840\n",
      "Epoch 133/500\n",
      "266/266 [==============================] - 5s 19ms/step - loss: 0.3278 - acc: 0.8777 - val_loss: 0.3305 - val_acc: 0.8811\n",
      "Epoch 134/500\n",
      "266/266 [==============================] - 5s 19ms/step - loss: 0.3402 - acc: 0.8704 - val_loss: 0.2936 - val_acc: 0.8942\n",
      "Epoch 135/500\n",
      "266/266 [==============================] - 5s 19ms/step - loss: 0.3615 - acc: 0.8619 - val_loss: 0.3517 - val_acc: 0.8719\n",
      "Epoch 136/500\n",
      "266/266 [==============================] - 5s 19ms/step - loss: 0.3254 - acc: 0.8812 - val_loss: 0.3178 - val_acc: 0.8861\n",
      "Epoch 137/500\n",
      "266/266 [==============================] - 5s 19ms/step - loss: 0.3357 - acc: 0.8732 - val_loss: 0.3491 - val_acc: 0.8812\n",
      "Epoch 138/500\n",
      "266/266 [==============================] - 5s 19ms/step - loss: 0.3501 - acc: 0.8732 - val_loss: 0.3147 - val_acc: 0.8818\n",
      "Epoch 139/500\n",
      "266/266 [==============================] - 5s 19ms/step - loss: 0.3359 - acc: 0.8737 - val_loss: 0.3009 - val_acc: 0.8845\n",
      "Epoch 140/500\n",
      "266/266 [==============================] - 5s 19ms/step - loss: 0.3364 - acc: 0.8714 - val_loss: 0.3391 - val_acc: 0.8777\n",
      "Epoch 141/500\n",
      "266/266 [==============================] - 5s 19ms/step - loss: 0.3503 - acc: 0.8687 - val_loss: 0.3386 - val_acc: 0.8730\n",
      "Epoch 142/500\n",
      "266/266 [==============================] - 5s 18ms/step - loss: 0.3087 - acc: 0.8930 - val_loss: 0.3500 - val_acc: 0.8777\n",
      "Epoch 143/500\n",
      "266/266 [==============================] - 5s 18ms/step - loss: 0.3387 - acc: 0.8667 - val_loss: 0.3182 - val_acc: 0.8793\n",
      "Epoch 144/500\n",
      "266/266 [==============================] - 5s 19ms/step - loss: 0.3352 - acc: 0.8837 - val_loss: 0.3388 - val_acc: 0.8757\n",
      "Epoch 145/500\n",
      "266/266 [==============================] - 5s 19ms/step - loss: 0.3367 - acc: 0.8759 - val_loss: 0.3048 - val_acc: 0.8870\n",
      "Epoch 146/500\n",
      "266/266 [==============================] - 5s 18ms/step - loss: 0.3304 - acc: 0.8747 - val_loss: 0.3119 - val_acc: 0.8838\n",
      "Epoch 147/500\n",
      "266/266 [==============================] - 5s 19ms/step - loss: 0.3351 - acc: 0.8777 - val_loss: 0.3314 - val_acc: 0.8782\n",
      "Epoch 148/500\n",
      "266/266 [==============================] - 5s 19ms/step - loss: 0.3545 - acc: 0.8719 - val_loss: 0.3298 - val_acc: 0.8750\n",
      "Epoch 149/500\n",
      "266/266 [==============================] - 5s 19ms/step - loss: 0.3612 - acc: 0.8704 - val_loss: 0.2948 - val_acc: 0.8892\n",
      "Epoch 150/500\n",
      "266/266 [==============================] - 5s 19ms/step - loss: 0.3411 - acc: 0.8714 - val_loss: 0.3484 - val_acc: 0.8754\n",
      "Epoch 151/500\n",
      "266/266 [==============================] - 5s 19ms/step - loss: 0.3083 - acc: 0.8895 - val_loss: 0.3337 - val_acc: 0.8811\n",
      "Epoch 152/500\n",
      "266/266 [==============================] - 5s 18ms/step - loss: 0.3229 - acc: 0.8865 - val_loss: 0.3459 - val_acc: 0.8709\n",
      "Epoch 153/500\n",
      "266/266 [==============================] - 5s 19ms/step - loss: 0.3393 - acc: 0.8644 - val_loss: 0.2864 - val_acc: 0.8911\n",
      "Epoch 154/500\n",
      "266/266 [==============================] - 5s 19ms/step - loss: 0.3121 - acc: 0.8855 - val_loss: 0.3218 - val_acc: 0.8852\n",
      "Epoch 155/500\n",
      "266/266 [==============================] - 5s 19ms/step - loss: 0.3426 - acc: 0.8754 - val_loss: 0.3259 - val_acc: 0.8825\n",
      "Epoch 156/500\n",
      "266/266 [==============================] - 5s 19ms/step - loss: 0.3521 - acc: 0.8679 - val_loss: 0.3273 - val_acc: 0.8806\n",
      "Epoch 157/500\n",
      "266/266 [==============================] - 5s 19ms/step - loss: 0.3401 - acc: 0.8712 - val_loss: 0.3299 - val_acc: 0.8797\n",
      "Epoch 158/500\n",
      "266/266 [==============================] - 5s 20ms/step - loss: 0.3393 - acc: 0.8652 - val_loss: 0.3366 - val_acc: 0.8785\n",
      "Epoch 159/500\n",
      "266/266 [==============================] - 5s 19ms/step - loss: 0.3339 - acc: 0.8757 - val_loss: 0.3289 - val_acc: 0.8799\n",
      "Epoch 160/500\n",
      "266/266 [==============================] - 5s 19ms/step - loss: 0.3140 - acc: 0.8805 - val_loss: 0.2961 - val_acc: 0.8852\n",
      "Epoch 161/500\n",
      "266/266 [==============================] - 5s 19ms/step - loss: 0.3116 - acc: 0.8799 - val_loss: 0.3333 - val_acc: 0.8710\n",
      "Epoch 162/500\n",
      "266/266 [==============================] - 5s 19ms/step - loss: 0.3164 - acc: 0.8802 - val_loss: 0.3136 - val_acc: 0.8872\n",
      "Epoch 163/500\n",
      "266/266 [==============================] - 5s 19ms/step - loss: 0.3170 - acc: 0.8772 - val_loss: 0.3339 - val_acc: 0.8801\n",
      "Epoch 164/500\n",
      "266/266 [==============================] - 5s 19ms/step - loss: 0.3419 - acc: 0.8749 - val_loss: 0.3451 - val_acc: 0.8757\n",
      "Epoch 165/500\n",
      "266/266 [==============================] - 5s 19ms/step - loss: 0.3499 - acc: 0.8684 - val_loss: 0.3255 - val_acc: 0.8794\n",
      "Epoch 166/500\n",
      "266/266 [==============================] - 5s 18ms/step - loss: 0.3295 - acc: 0.8759 - val_loss: 0.3443 - val_acc: 0.8773\n",
      "Epoch 167/500\n",
      "266/266 [==============================] - 5s 18ms/step - loss: 0.3260 - acc: 0.8797 - val_loss: 0.3590 - val_acc: 0.8602\n",
      "Epoch 168/500\n",
      "266/266 [==============================] - 5s 18ms/step - loss: 0.3094 - acc: 0.8880 - val_loss: 0.3136 - val_acc: 0.8840\n",
      "Epoch 169/500\n",
      "266/266 [==============================] - 5s 19ms/step - loss: 0.3174 - acc: 0.8857 - val_loss: 0.3182 - val_acc: 0.8846\n",
      "Epoch 170/500\n",
      "266/266 [==============================] - 5s 19ms/step - loss: 0.3330 - acc: 0.8787 - val_loss: 0.3187 - val_acc: 0.8812\n",
      "Epoch 171/500\n",
      "266/266 [==============================] - 5s 19ms/step - loss: 0.3240 - acc: 0.8792 - val_loss: 0.3131 - val_acc: 0.8898\n",
      "Epoch 172/500\n",
      "266/266 [==============================] - 5s 19ms/step - loss: 0.3333 - acc: 0.8707 - val_loss: 0.3402 - val_acc: 0.8739\n",
      "Epoch 173/500\n",
      "266/266 [==============================] - 5s 19ms/step - loss: 0.3340 - acc: 0.8787 - val_loss: 0.3041 - val_acc: 0.8920\n",
      "Epoch 174/500\n",
      "266/266 [==============================] - 5s 19ms/step - loss: 0.3479 - acc: 0.8664 - val_loss: 0.3262 - val_acc: 0.8813\n",
      "Epoch 175/500\n",
      "266/266 [==============================] - 5s 19ms/step - loss: 0.3340 - acc: 0.8757 - val_loss: 0.3118 - val_acc: 0.8862\n",
      "Epoch 176/500\n",
      "266/266 [==============================] - 5s 19ms/step - loss: 0.3248 - acc: 0.8744 - val_loss: 0.2947 - val_acc: 0.8916\n",
      "Epoch 177/500\n",
      "266/266 [==============================] - 5s 19ms/step - loss: 0.3369 - acc: 0.8762 - val_loss: 0.2917 - val_acc: 0.8945\n",
      "Epoch 178/500\n",
      "266/266 [==============================] - 5s 19ms/step - loss: 0.3135 - acc: 0.8850 - val_loss: 0.3123 - val_acc: 0.8847\n",
      "Epoch 179/500\n",
      "266/266 [==============================] - 5s 19ms/step - loss: 0.3300 - acc: 0.8729 - val_loss: 0.3229 - val_acc: 0.8848\n",
      "Epoch 180/500\n",
      "266/266 [==============================] - 5s 19ms/step - loss: 0.3352 - acc: 0.8744 - val_loss: 0.3055 - val_acc: 0.8850\n",
      "Epoch 181/500\n",
      "266/266 [==============================] - 5s 19ms/step - loss: 0.3333 - acc: 0.8704 - val_loss: 0.3026 - val_acc: 0.8903\n",
      "Epoch 182/500\n",
      "266/266 [==============================] - 5s 19ms/step - loss: 0.2937 - acc: 0.8930 - val_loss: 0.3338 - val_acc: 0.8820\n",
      "Epoch 183/500\n",
      "266/266 [==============================] - 5s 19ms/step - loss: 0.3143 - acc: 0.8817 - val_loss: 0.3199 - val_acc: 0.8880\n",
      "Epoch 184/500\n",
      "266/266 [==============================] - 5s 19ms/step - loss: 0.3239 - acc: 0.8822 - val_loss: 0.3515 - val_acc: 0.8720\n",
      "Epoch 185/500\n",
      "266/266 [==============================] - 5s 19ms/step - loss: 0.3206 - acc: 0.8807 - val_loss: 0.3254 - val_acc: 0.8850\n",
      "Epoch 186/500\n",
      "266/266 [==============================] - 5s 18ms/step - loss: 0.3388 - acc: 0.8742 - val_loss: 0.2962 - val_acc: 0.8964\n",
      "Epoch 187/500\n",
      "266/266 [==============================] - 5s 19ms/step - loss: 0.3177 - acc: 0.8807 - val_loss: 0.3359 - val_acc: 0.8757\n",
      "Epoch 188/500\n",
      "266/266 [==============================] - 5s 19ms/step - loss: 0.3455 - acc: 0.8677 - val_loss: 0.3192 - val_acc: 0.8774\n",
      "Epoch 189/500\n",
      "266/266 [==============================] - 5s 19ms/step - loss: 0.3386 - acc: 0.8719 - val_loss: 0.3011 - val_acc: 0.8863\n",
      "Epoch 190/500\n",
      "266/266 [==============================] - 5s 19ms/step - loss: 0.3180 - acc: 0.8817 - val_loss: 0.3240 - val_acc: 0.8807\n",
      "Epoch 191/500\n",
      "266/266 [==============================] - 5s 19ms/step - loss: 0.3213 - acc: 0.8850 - val_loss: 0.3142 - val_acc: 0.8863\n",
      "Epoch 192/500\n",
      "266/266 [==============================] - 5s 19ms/step - loss: 0.3321 - acc: 0.8759 - val_loss: 0.3217 - val_acc: 0.8820\n",
      "Epoch 193/500\n",
      "266/266 [==============================] - 5s 19ms/step - loss: 0.3094 - acc: 0.8837 - val_loss: 0.3157 - val_acc: 0.8830\n",
      "Epoch 194/500\n",
      "266/266 [==============================] - 5s 19ms/step - loss: 0.3316 - acc: 0.8774 - val_loss: 0.3199 - val_acc: 0.8788\n",
      "Epoch 195/500\n",
      "266/266 [==============================] - 5s 19ms/step - loss: 0.3197 - acc: 0.8792 - val_loss: 0.3084 - val_acc: 0.8882\n",
      "Epoch 196/500\n",
      "266/266 [==============================] - 5s 19ms/step - loss: 0.3178 - acc: 0.8882 - val_loss: 0.3277 - val_acc: 0.8763\n",
      "Epoch 197/500\n",
      "266/266 [==============================] - 5s 19ms/step - loss: 0.3300 - acc: 0.8794 - val_loss: 0.3006 - val_acc: 0.8882\n",
      "Epoch 198/500\n",
      "266/266 [==============================] - 5s 19ms/step - loss: 0.2966 - acc: 0.8910 - val_loss: 0.3364 - val_acc: 0.8762\n",
      "Epoch 199/500\n",
      "266/266 [==============================] - 5s 19ms/step - loss: 0.3299 - acc: 0.8759 - val_loss: 0.3083 - val_acc: 0.8848\n",
      "Epoch 200/500\n",
      "266/266 [==============================] - 5s 19ms/step - loss: 0.3200 - acc: 0.8810 - val_loss: 0.3166 - val_acc: 0.8867\n",
      "Epoch 201/500\n",
      "266/266 [==============================] - 5s 19ms/step - loss: 0.3158 - acc: 0.8789 - val_loss: 0.3263 - val_acc: 0.8823\n",
      "Epoch 202/500\n",
      "266/266 [==============================] - 5s 19ms/step - loss: 0.3193 - acc: 0.8837 - val_loss: 0.2953 - val_acc: 0.8925\n",
      "Epoch 203/500\n",
      "266/266 [==============================] - 5s 19ms/step - loss: 0.2990 - acc: 0.8867 - val_loss: 0.3063 - val_acc: 0.8857\n",
      "Epoch 204/500\n",
      "266/266 [==============================] - 5s 18ms/step - loss: 0.3379 - acc: 0.8727 - val_loss: 0.3331 - val_acc: 0.8798\n",
      "Epoch 205/500\n",
      "266/266 [==============================] - 5s 19ms/step - loss: 0.3052 - acc: 0.8794 - val_loss: 0.3187 - val_acc: 0.8850\n",
      "Epoch 206/500\n",
      "266/266 [==============================] - 5s 19ms/step - loss: 0.3286 - acc: 0.8812 - val_loss: 0.2802 - val_acc: 0.8951\n",
      "Epoch 207/500\n",
      "266/266 [==============================] - 5s 19ms/step - loss: 0.3368 - acc: 0.8754 - val_loss: 0.3349 - val_acc: 0.8712\n",
      "Epoch 208/500\n",
      "266/266 [==============================] - 5s 19ms/step - loss: 0.2989 - acc: 0.8902 - val_loss: 0.3441 - val_acc: 0.8689\n",
      "Epoch 209/500\n",
      "266/266 [==============================] - 5s 19ms/step - loss: 0.3280 - acc: 0.8794 - val_loss: 0.2988 - val_acc: 0.8888\n",
      "Epoch 210/500\n",
      "266/266 [==============================] - 5s 19ms/step - loss: 0.3274 - acc: 0.8855 - val_loss: 0.3311 - val_acc: 0.8810\n",
      "Epoch 211/500\n",
      "266/266 [==============================] - 5s 19ms/step - loss: 0.3126 - acc: 0.8865 - val_loss: 0.3060 - val_acc: 0.8911\n",
      "Epoch 212/500\n",
      "266/266 [==============================] - 5s 19ms/step - loss: 0.3182 - acc: 0.8837 - val_loss: 0.3201 - val_acc: 0.8842\n",
      "Epoch 213/500\n",
      "266/266 [==============================] - 5s 19ms/step - loss: 0.2897 - acc: 0.8852 - val_loss: 0.3199 - val_acc: 0.8825\n",
      "Epoch 214/500\n",
      "266/266 [==============================] - 5s 19ms/step - loss: 0.3219 - acc: 0.8794 - val_loss: 0.3094 - val_acc: 0.8843\n",
      "Epoch 215/500\n",
      "266/266 [==============================] - 5s 19ms/step - loss: 0.3131 - acc: 0.8835 - val_loss: 0.3079 - val_acc: 0.8865\n",
      "Epoch 216/500\n",
      "266/266 [==============================] - 5s 18ms/step - loss: 0.3318 - acc: 0.8812 - val_loss: 0.3480 - val_acc: 0.8678\n",
      "Epoch 217/500\n",
      "266/266 [==============================] - 5s 19ms/step - loss: 0.3289 - acc: 0.8822 - val_loss: 0.3060 - val_acc: 0.8890\n",
      "Epoch 218/500\n",
      "266/266 [==============================] - 5s 19ms/step - loss: 0.3076 - acc: 0.8870 - val_loss: 0.2997 - val_acc: 0.8945\n",
      "Epoch 219/500\n",
      "266/266 [==============================] - 5s 19ms/step - loss: 0.3199 - acc: 0.8815 - val_loss: 0.3237 - val_acc: 0.8788\n",
      "Epoch 220/500\n",
      "266/266 [==============================] - 5s 19ms/step - loss: 0.3018 - acc: 0.8880 - val_loss: 0.3060 - val_acc: 0.8842\n",
      "Epoch 221/500\n",
      "266/266 [==============================] - 5s 19ms/step - loss: 0.3144 - acc: 0.8830 - val_loss: 0.3203 - val_acc: 0.8795\n",
      "Epoch 222/500\n",
      "266/266 [==============================] - 5s 19ms/step - loss: 0.3198 - acc: 0.8807 - val_loss: 0.3334 - val_acc: 0.8774\n",
      "Epoch 223/500\n",
      "266/266 [==============================] - 5s 19ms/step - loss: 0.3284 - acc: 0.8794 - val_loss: 0.2946 - val_acc: 0.8907\n",
      "Epoch 224/500\n",
      "266/266 [==============================] - 5s 19ms/step - loss: 0.3023 - acc: 0.8895 - val_loss: 0.2948 - val_acc: 0.8951\n",
      "Epoch 225/500\n",
      "266/266 [==============================] - 5s 19ms/step - loss: 0.3406 - acc: 0.8722 - val_loss: 0.3157 - val_acc: 0.8855\n",
      "Epoch 226/500\n",
      "266/266 [==============================] - 5s 19ms/step - loss: 0.2986 - acc: 0.8917 - val_loss: 0.3364 - val_acc: 0.8733\n",
      "Epoch 227/500\n",
      "266/266 [==============================] - 5s 18ms/step - loss: 0.3013 - acc: 0.8865 - val_loss: 0.3282 - val_acc: 0.8749\n",
      "Epoch 228/500\n",
      "266/266 [==============================] - 5s 19ms/step - loss: 0.3118 - acc: 0.8822 - val_loss: 0.3115 - val_acc: 0.8875\n",
      "Epoch 229/500\n",
      "266/266 [==============================] - 5s 18ms/step - loss: 0.2965 - acc: 0.8867 - val_loss: 0.3172 - val_acc: 0.8878\n",
      "Epoch 230/500\n",
      "266/266 [==============================] - 5s 19ms/step - loss: 0.3271 - acc: 0.8865 - val_loss: 0.3224 - val_acc: 0.8744\n",
      "Epoch 231/500\n",
      "266/266 [==============================] - 5s 18ms/step - loss: 0.3194 - acc: 0.8857 - val_loss: 0.3401 - val_acc: 0.8803\n",
      "Epoch 232/500\n",
      "266/266 [==============================] - 5s 19ms/step - loss: 0.3468 - acc: 0.8719 - val_loss: 0.3205 - val_acc: 0.8857\n",
      "Epoch 233/500\n",
      "266/266 [==============================] - 5s 19ms/step - loss: 0.3170 - acc: 0.8792 - val_loss: 0.3109 - val_acc: 0.8842\n",
      "Epoch 234/500\n",
      "266/266 [==============================] - 5s 18ms/step - loss: 0.3069 - acc: 0.8840 - val_loss: 0.3230 - val_acc: 0.8790\n",
      "Epoch 235/500\n",
      "266/266 [==============================] - 5s 19ms/step - loss: 0.3271 - acc: 0.8822 - val_loss: 0.3186 - val_acc: 0.8865\n",
      "Epoch 236/500\n",
      "266/266 [==============================] - 5s 19ms/step - loss: 0.3169 - acc: 0.8820 - val_loss: 0.3194 - val_acc: 0.8806\n",
      "Epoch 237/500\n",
      "266/266 [==============================] - 5s 19ms/step - loss: 0.3278 - acc: 0.8739 - val_loss: 0.3225 - val_acc: 0.8712\n",
      "Epoch 238/500\n",
      "266/266 [==============================] - 5s 19ms/step - loss: 0.3058 - acc: 0.8847 - val_loss: 0.3035 - val_acc: 0.8922\n",
      "Epoch 239/500\n",
      "266/266 [==============================] - 5s 19ms/step - loss: 0.3073 - acc: 0.8842 - val_loss: 0.3035 - val_acc: 0.8893\n",
      "Epoch 240/500\n",
      "266/266 [==============================] - 5s 19ms/step - loss: 0.3114 - acc: 0.8835 - val_loss: 0.3620 - val_acc: 0.8689\n",
      "Epoch 241/500\n",
      "266/266 [==============================] - 5s 19ms/step - loss: 0.3186 - acc: 0.8812 - val_loss: 0.3241 - val_acc: 0.8763\n",
      "Epoch 242/500\n",
      "266/266 [==============================] - 5s 18ms/step - loss: 0.3097 - acc: 0.8857 - val_loss: 0.3219 - val_acc: 0.8840\n",
      "Epoch 243/500\n",
      "266/266 [==============================] - 5s 19ms/step - loss: 0.3199 - acc: 0.8880 - val_loss: 0.3545 - val_acc: 0.8669\n",
      "Epoch 244/500\n",
      "266/266 [==============================] - 5s 19ms/step - loss: 0.3158 - acc: 0.8855 - val_loss: 0.3217 - val_acc: 0.8821\n",
      "Epoch 245/500\n",
      "266/266 [==============================] - 5s 19ms/step - loss: 0.3290 - acc: 0.8782 - val_loss: 0.2979 - val_acc: 0.8955\n",
      "Epoch 246/500\n",
      "266/266 [==============================] - 5s 19ms/step - loss: 0.3017 - acc: 0.8825 - val_loss: 0.3061 - val_acc: 0.8931\n",
      "Epoch 247/500\n",
      "266/266 [==============================] - 5s 19ms/step - loss: 0.3067 - acc: 0.8867 - val_loss: 0.3165 - val_acc: 0.8827\n",
      "Epoch 248/500\n",
      "266/266 [==============================] - 5s 19ms/step - loss: 0.3038 - acc: 0.8847 - val_loss: 0.3114 - val_acc: 0.8857\n",
      "Epoch 249/500\n",
      "266/266 [==============================] - 5s 19ms/step - loss: 0.3241 - acc: 0.8727 - val_loss: 0.3086 - val_acc: 0.8848\n",
      "Epoch 250/500\n",
      "266/266 [==============================] - 5s 19ms/step - loss: 0.3201 - acc: 0.8799 - val_loss: 0.2955 - val_acc: 0.8932\n",
      "Epoch 251/500\n",
      "266/266 [==============================] - 5s 19ms/step - loss: 0.3185 - acc: 0.8810 - val_loss: 0.3240 - val_acc: 0.8808\n",
      "Epoch 252/500\n",
      "266/266 [==============================] - 5s 19ms/step - loss: 0.3106 - acc: 0.8820 - val_loss: 0.3130 - val_acc: 0.8867\n",
      "Epoch 253/500\n",
      "266/266 [==============================] - 5s 19ms/step - loss: 0.2997 - acc: 0.8932 - val_loss: 0.3096 - val_acc: 0.8867\n",
      "Epoch 254/500\n",
      "266/266 [==============================] - 5s 19ms/step - loss: 0.3311 - acc: 0.8777 - val_loss: 0.3078 - val_acc: 0.8873\n",
      "Epoch 255/500\n",
      "266/266 [==============================] - 5s 19ms/step - loss: 0.3038 - acc: 0.8857 - val_loss: 0.3205 - val_acc: 0.8822\n",
      "Epoch 256/500\n",
      "266/266 [==============================] - 5s 19ms/step - loss: 0.3116 - acc: 0.8807 - val_loss: 0.3175 - val_acc: 0.8818\n",
      "Epoch 257/500\n",
      "266/266 [==============================] - 5s 19ms/step - loss: 0.3250 - acc: 0.8759 - val_loss: 0.3257 - val_acc: 0.8777\n",
      "Epoch 258/500\n",
      "266/266 [==============================] - 5s 19ms/step - loss: 0.2811 - acc: 0.8970 - val_loss: 0.2879 - val_acc: 0.8987\n",
      "Epoch 259/500\n",
      "266/266 [==============================] - 5s 19ms/step - loss: 0.3281 - acc: 0.8810 - val_loss: 0.2902 - val_acc: 0.8921\n",
      "Epoch 260/500\n",
      "266/266 [==============================] - 5s 19ms/step - loss: 0.3008 - acc: 0.8920 - val_loss: 0.3005 - val_acc: 0.8922\n",
      "Epoch 261/500\n",
      "266/266 [==============================] - 5s 19ms/step - loss: 0.3076 - acc: 0.8870 - val_loss: 0.3074 - val_acc: 0.8863\n",
      "Epoch 262/500\n",
      "266/266 [==============================] - 5s 19ms/step - loss: 0.2996 - acc: 0.8872 - val_loss: 0.3062 - val_acc: 0.8875\n",
      "Epoch 263/500\n",
      "266/266 [==============================] - 5s 18ms/step - loss: 0.3181 - acc: 0.8805 - val_loss: 0.3469 - val_acc: 0.8732\n",
      "Epoch 264/500\n",
      "266/266 [==============================] - 5s 18ms/step - loss: 0.3040 - acc: 0.8870 - val_loss: 0.3024 - val_acc: 0.8891\n",
      "Epoch 265/500\n",
      "266/266 [==============================] - 5s 19ms/step - loss: 0.2782 - acc: 0.8975 - val_loss: 0.3131 - val_acc: 0.8875\n",
      "Epoch 266/500\n",
      "266/266 [==============================] - 5s 19ms/step - loss: 0.3136 - acc: 0.8842 - val_loss: 0.3160 - val_acc: 0.8848\n",
      "Epoch 267/500\n",
      "266/266 [==============================] - 5s 19ms/step - loss: 0.3144 - acc: 0.8827 - val_loss: 0.3195 - val_acc: 0.8825\n",
      "Epoch 268/500\n",
      "266/266 [==============================] - 5s 19ms/step - loss: 0.3211 - acc: 0.8857 - val_loss: 0.3595 - val_acc: 0.8664\n",
      "Epoch 269/500\n",
      "266/266 [==============================] - 5s 19ms/step - loss: 0.3191 - acc: 0.8792 - val_loss: 0.3119 - val_acc: 0.8871\n",
      "Epoch 270/500\n",
      "266/266 [==============================] - 5s 18ms/step - loss: 0.3074 - acc: 0.8905 - val_loss: 0.3814 - val_acc: 0.8614\n",
      "Epoch 271/500\n",
      "266/266 [==============================] - 5s 19ms/step - loss: 0.3010 - acc: 0.8932 - val_loss: 0.2821 - val_acc: 0.8994\n",
      "Epoch 272/500\n",
      "266/266 [==============================] - 5s 19ms/step - loss: 0.2919 - acc: 0.8890 - val_loss: 0.3464 - val_acc: 0.8732\n",
      "Epoch 273/500\n",
      "266/266 [==============================] - 5s 19ms/step - loss: 0.3008 - acc: 0.8880 - val_loss: 0.3169 - val_acc: 0.8840\n",
      "Epoch 274/500\n",
      "266/266 [==============================] - 5s 19ms/step - loss: 0.2997 - acc: 0.8977 - val_loss: 0.3194 - val_acc: 0.8848\n",
      "Epoch 275/500\n",
      "266/266 [==============================] - 5s 18ms/step - loss: 0.3255 - acc: 0.8847 - val_loss: 0.3080 - val_acc: 0.8842\n",
      "Epoch 276/500\n",
      "266/266 [==============================] - 5s 19ms/step - loss: 0.2877 - acc: 0.8940 - val_loss: 0.3044 - val_acc: 0.8913\n",
      "Epoch 277/500\n",
      "266/266 [==============================] - 5s 19ms/step - loss: 0.3004 - acc: 0.8900 - val_loss: 0.3231 - val_acc: 0.8847\n",
      "Epoch 278/500\n",
      "266/266 [==============================] - 5s 18ms/step - loss: 0.3036 - acc: 0.8877 - val_loss: 0.3059 - val_acc: 0.8957\n",
      "Epoch 279/500\n",
      "266/266 [==============================] - 5s 19ms/step - loss: 0.3264 - acc: 0.8727 - val_loss: 0.2993 - val_acc: 0.8893\n",
      "Epoch 280/500\n",
      "266/266 [==============================] - 5s 19ms/step - loss: 0.3253 - acc: 0.8827 - val_loss: 0.3143 - val_acc: 0.8895\n",
      "Epoch 281/500\n",
      "266/266 [==============================] - 5s 19ms/step - loss: 0.3008 - acc: 0.8890 - val_loss: 0.3209 - val_acc: 0.8881\n",
      "Epoch 282/500\n",
      "266/266 [==============================] - 5s 19ms/step - loss: 0.3266 - acc: 0.8794 - val_loss: 0.3070 - val_acc: 0.8887\n",
      "Epoch 283/500\n",
      "266/266 [==============================] - 5s 19ms/step - loss: 0.3170 - acc: 0.8752 - val_loss: 0.2997 - val_acc: 0.8902\n",
      "Epoch 284/500\n",
      "266/266 [==============================] - 5s 19ms/step - loss: 0.2898 - acc: 0.8930 - val_loss: 0.3165 - val_acc: 0.8833\n",
      "Epoch 285/500\n",
      "266/266 [==============================] - 5s 19ms/step - loss: 0.2914 - acc: 0.8955 - val_loss: 0.2975 - val_acc: 0.8917\n",
      "Epoch 286/500\n",
      "266/266 [==============================] - 5s 19ms/step - loss: 0.3138 - acc: 0.8820 - val_loss: 0.3160 - val_acc: 0.8888\n",
      "Epoch 287/500\n",
      "266/266 [==============================] - 5s 19ms/step - loss: 0.3109 - acc: 0.8835 - val_loss: 0.3423 - val_acc: 0.8687\n",
      "Epoch 288/500\n",
      "266/266 [==============================] - 5s 19ms/step - loss: 0.3081 - acc: 0.8880 - val_loss: 0.3030 - val_acc: 0.8907\n",
      "Epoch 289/500\n",
      "266/266 [==============================] - 5s 19ms/step - loss: 0.2899 - acc: 0.8942 - val_loss: 0.3454 - val_acc: 0.8838\n",
      "Epoch 290/500\n",
      "266/266 [==============================] - 5s 18ms/step - loss: 0.2912 - acc: 0.8935 - val_loss: 0.2957 - val_acc: 0.8867\n",
      "Epoch 291/500\n",
      "266/266 [==============================] - 5s 18ms/step - loss: 0.3129 - acc: 0.8870 - val_loss: 0.3021 - val_acc: 0.8936\n",
      "Epoch 292/500\n",
      "266/266 [==============================] - 5s 18ms/step - loss: 0.3185 - acc: 0.8792 - val_loss: 0.3322 - val_acc: 0.8752\n",
      "Epoch 293/500\n",
      "266/266 [==============================] - 5s 19ms/step - loss: 0.3079 - acc: 0.8835 - val_loss: 0.3570 - val_acc: 0.8644\n",
      "Epoch 294/500\n",
      "266/266 [==============================] - 5s 19ms/step - loss: 0.2928 - acc: 0.8922 - val_loss: 0.3298 - val_acc: 0.8813\n",
      "Epoch 295/500\n",
      "266/266 [==============================] - 5s 19ms/step - loss: 0.3070 - acc: 0.8900 - val_loss: 0.4336 - val_acc: 0.8612\n",
      "Epoch 296/500\n",
      "266/266 [==============================] - 5s 19ms/step - loss: 0.3361 - acc: 0.8802 - val_loss: 0.2822 - val_acc: 0.8989\n",
      "Epoch 297/500\n",
      "266/266 [==============================] - 5s 19ms/step - loss: 0.2964 - acc: 0.8912 - val_loss: 0.3319 - val_acc: 0.8835\n",
      "Epoch 298/500\n",
      "266/266 [==============================] - 5s 19ms/step - loss: 0.3205 - acc: 0.8807 - val_loss: 0.2687 - val_acc: 0.9023\n",
      "Epoch 299/500\n",
      "266/266 [==============================] - 5s 19ms/step - loss: 0.3011 - acc: 0.8875 - val_loss: 0.3167 - val_acc: 0.8858\n",
      "Epoch 300/500\n",
      "266/266 [==============================] - 5s 19ms/step - loss: 0.2916 - acc: 0.8927 - val_loss: 0.3099 - val_acc: 0.8902\n",
      "Epoch 301/500\n",
      "266/266 [==============================] - 5s 18ms/step - loss: 0.3131 - acc: 0.8827 - val_loss: 0.3152 - val_acc: 0.8913\n",
      "Epoch 302/500\n",
      "266/266 [==============================] - 5s 19ms/step - loss: 0.2947 - acc: 0.8882 - val_loss: 0.3265 - val_acc: 0.8877\n",
      "Epoch 303/500\n",
      "266/266 [==============================] - 5s 19ms/step - loss: 0.3117 - acc: 0.8850 - val_loss: 0.3056 - val_acc: 0.8837\n",
      "Epoch 304/500\n",
      "266/266 [==============================] - 5s 19ms/step - loss: 0.2987 - acc: 0.8877 - val_loss: 0.2929 - val_acc: 0.8939\n",
      "Epoch 305/500\n",
      "266/266 [==============================] - 5s 19ms/step - loss: 0.3050 - acc: 0.8950 - val_loss: 0.3086 - val_acc: 0.8887\n",
      "Epoch 306/500\n",
      "266/266 [==============================] - 5s 19ms/step - loss: 0.3096 - acc: 0.8779 - val_loss: 0.2898 - val_acc: 0.8966\n",
      "Epoch 307/500\n",
      "266/266 [==============================] - 5s 19ms/step - loss: 0.3059 - acc: 0.8827 - val_loss: 0.3312 - val_acc: 0.8802\n",
      "Epoch 308/500\n",
      "266/266 [==============================] - 5s 19ms/step - loss: 0.2940 - acc: 0.8922 - val_loss: 0.2882 - val_acc: 0.8930\n",
      "Epoch 309/500\n",
      "266/266 [==============================] - 5s 19ms/step - loss: 0.3132 - acc: 0.8802 - val_loss: 0.3130 - val_acc: 0.8873\n",
      "Epoch 310/500\n",
      "266/266 [==============================] - 5s 19ms/step - loss: 0.3041 - acc: 0.8855 - val_loss: 0.2905 - val_acc: 0.8975\n",
      "Epoch 311/500\n",
      "266/266 [==============================] - 5s 19ms/step - loss: 0.2887 - acc: 0.8905 - val_loss: 0.3244 - val_acc: 0.8863\n",
      "Epoch 312/500\n",
      "266/266 [==============================] - 5s 19ms/step - loss: 0.3017 - acc: 0.8945 - val_loss: 0.2867 - val_acc: 0.8977\n",
      "Epoch 313/500\n",
      "266/266 [==============================] - 5s 19ms/step - loss: 0.3128 - acc: 0.8835 - val_loss: 0.3097 - val_acc: 0.8930\n",
      "Epoch 314/500\n",
      "266/266 [==============================] - 5s 19ms/step - loss: 0.2877 - acc: 0.8905 - val_loss: 0.3086 - val_acc: 0.8883\n",
      "Epoch 315/500\n",
      "266/266 [==============================] - 5s 19ms/step - loss: 0.2952 - acc: 0.8925 - val_loss: 0.3148 - val_acc: 0.8927\n",
      "Epoch 316/500\n",
      "266/266 [==============================] - 5s 19ms/step - loss: 0.3249 - acc: 0.8779 - val_loss: 0.3066 - val_acc: 0.8903\n",
      "Epoch 317/500\n",
      "266/266 [==============================] - 5s 19ms/step - loss: 0.2856 - acc: 0.8917 - val_loss: 0.3219 - val_acc: 0.8872\n",
      "Epoch 318/500\n",
      "266/266 [==============================] - 5s 19ms/step - loss: 0.2954 - acc: 0.8857 - val_loss: 0.2931 - val_acc: 0.8962\n",
      "Epoch 319/500\n",
      "266/266 [==============================] - 5s 19ms/step - loss: 0.2754 - acc: 0.8970 - val_loss: 0.3035 - val_acc: 0.8918\n",
      "Epoch 320/500\n",
      "266/266 [==============================] - 5s 19ms/step - loss: 0.3124 - acc: 0.8842 - val_loss: 0.2889 - val_acc: 0.8950\n",
      "Epoch 321/500\n",
      "266/266 [==============================] - 5s 19ms/step - loss: 0.2800 - acc: 0.8922 - val_loss: 0.3026 - val_acc: 0.8949\n",
      "Epoch 322/500\n",
      "266/266 [==============================] - 5s 19ms/step - loss: 0.3006 - acc: 0.8882 - val_loss: 0.3167 - val_acc: 0.8840\n",
      "Epoch 323/500\n",
      "266/266 [==============================] - 5s 19ms/step - loss: 0.2941 - acc: 0.8927 - val_loss: 0.3103 - val_acc: 0.8917\n",
      "Epoch 324/500\n",
      "266/266 [==============================] - 5s 19ms/step - loss: 0.3006 - acc: 0.8900 - val_loss: 0.3030 - val_acc: 0.8974\n",
      "Epoch 325/500\n",
      "266/266 [==============================] - 5s 19ms/step - loss: 0.2925 - acc: 0.8905 - val_loss: 0.3355 - val_acc: 0.8815\n",
      "Epoch 326/500\n",
      "266/266 [==============================] - 5s 19ms/step - loss: 0.2992 - acc: 0.8927 - val_loss: 0.2931 - val_acc: 0.8981\n",
      "Epoch 327/500\n",
      "266/266 [==============================] - 5s 18ms/step - loss: 0.3408 - acc: 0.8747 - val_loss: 0.2929 - val_acc: 0.8955\n",
      "Epoch 328/500\n",
      "266/266 [==============================] - 5s 19ms/step - loss: 0.3238 - acc: 0.8830 - val_loss: 0.3255 - val_acc: 0.8817\n",
      "Epoch 329/500\n",
      "266/266 [==============================] - 5s 19ms/step - loss: 0.3026 - acc: 0.8875 - val_loss: 0.2859 - val_acc: 0.8981\n",
      "Epoch 330/500\n",
      "266/266 [==============================] - 5s 18ms/step - loss: 0.3195 - acc: 0.8840 - val_loss: 0.2991 - val_acc: 0.8910\n",
      "Epoch 331/500\n",
      "266/266 [==============================] - 5s 19ms/step - loss: 0.3116 - acc: 0.8895 - val_loss: 0.3052 - val_acc: 0.8908\n",
      "Epoch 332/500\n",
      "266/266 [==============================] - 5s 19ms/step - loss: 0.2747 - acc: 0.9045 - val_loss: 0.3017 - val_acc: 0.8912\n",
      "Epoch 333/500\n",
      "266/266 [==============================] - 5s 19ms/step - loss: 0.2923 - acc: 0.8912 - val_loss: 0.3256 - val_acc: 0.8852\n",
      "Epoch 334/500\n",
      "266/266 [==============================] - 5s 19ms/step - loss: 0.3014 - acc: 0.8912 - val_loss: 0.3297 - val_acc: 0.8848\n",
      "Epoch 335/500\n",
      "266/266 [==============================] - 5s 19ms/step - loss: 0.3016 - acc: 0.8895 - val_loss: 0.3016 - val_acc: 0.8942\n",
      "Epoch 336/500\n",
      "266/266 [==============================] - 5s 19ms/step - loss: 0.3250 - acc: 0.8777 - val_loss: 0.3468 - val_acc: 0.8767\n",
      "Epoch 337/500\n",
      "266/266 [==============================] - 5s 19ms/step - loss: 0.2859 - acc: 0.8917 - val_loss: 0.3134 - val_acc: 0.8916\n",
      "Epoch 338/500\n",
      "266/266 [==============================] - 5s 19ms/step - loss: 0.2869 - acc: 0.8942 - val_loss: 0.3089 - val_acc: 0.8910\n",
      "Epoch 339/500\n",
      "266/266 [==============================] - 5s 19ms/step - loss: 0.2690 - acc: 0.8992 - val_loss: 0.3039 - val_acc: 0.8931\n",
      "Epoch 340/500\n",
      "266/266 [==============================] - 5s 19ms/step - loss: 0.2986 - acc: 0.8855 - val_loss: 0.2791 - val_acc: 0.9000\n",
      "Epoch 341/500\n",
      "266/266 [==============================] - 5s 19ms/step - loss: 0.3183 - acc: 0.8812 - val_loss: 0.3237 - val_acc: 0.8830\n",
      "Epoch 342/500\n",
      "266/266 [==============================] - 5s 19ms/step - loss: 0.3109 - acc: 0.8860 - val_loss: 0.3221 - val_acc: 0.8873\n",
      "Epoch 343/500\n",
      "266/266 [==============================] - 5s 19ms/step - loss: 0.3101 - acc: 0.8852 - val_loss: 0.3040 - val_acc: 0.8940\n",
      "Epoch 344/500\n",
      "266/266 [==============================] - 5s 19ms/step - loss: 0.3001 - acc: 0.8872 - val_loss: 0.3008 - val_acc: 0.8941\n",
      "Epoch 345/500\n",
      "266/266 [==============================] - 5s 19ms/step - loss: 0.3218 - acc: 0.8782 - val_loss: 0.3176 - val_acc: 0.8840\n",
      "Epoch 346/500\n",
      "266/266 [==============================] - 5s 19ms/step - loss: 0.2968 - acc: 0.8852 - val_loss: 0.3164 - val_acc: 0.8925\n",
      "Epoch 347/500\n",
      "266/266 [==============================] - 5s 19ms/step - loss: 0.2806 - acc: 0.8992 - val_loss: 0.3460 - val_acc: 0.8811\n",
      "Epoch 348/500\n",
      "266/266 [==============================] - 5s 18ms/step - loss: 0.2904 - acc: 0.8867 - val_loss: 0.3488 - val_acc: 0.8784\n",
      "Epoch 349/500\n",
      "266/266 [==============================] - 5s 19ms/step - loss: 0.3078 - acc: 0.8867 - val_loss: 0.3130 - val_acc: 0.8906\n",
      "Epoch 350/500\n",
      "266/266 [==============================] - 5s 18ms/step - loss: 0.3040 - acc: 0.8915 - val_loss: 0.3120 - val_acc: 0.8900\n",
      "Epoch 351/500\n",
      "266/266 [==============================] - 5s 19ms/step - loss: 0.2929 - acc: 0.8952 - val_loss: 0.3110 - val_acc: 0.8970\n",
      "Epoch 352/500\n",
      "266/266 [==============================] - 5s 19ms/step - loss: 0.2868 - acc: 0.8907 - val_loss: 0.2896 - val_acc: 0.9004\n",
      "Epoch 353/500\n",
      "266/266 [==============================] - 5s 19ms/step - loss: 0.3064 - acc: 0.8842 - val_loss: 0.3274 - val_acc: 0.8872\n",
      "Epoch 354/500\n",
      "266/266 [==============================] - 5s 18ms/step - loss: 0.2807 - acc: 0.8970 - val_loss: 0.3165 - val_acc: 0.8893\n",
      "Epoch 355/500\n",
      "266/266 [==============================] - 5s 19ms/step - loss: 0.2978 - acc: 0.8900 - val_loss: 0.2969 - val_acc: 0.8945\n",
      "Epoch 356/500\n",
      "266/266 [==============================] - 5s 18ms/step - loss: 0.2819 - acc: 0.8965 - val_loss: 0.3059 - val_acc: 0.8917\n",
      "Epoch 357/500\n",
      "266/266 [==============================] - 5s 19ms/step - loss: 0.3133 - acc: 0.8815 - val_loss: 0.3293 - val_acc: 0.8806\n",
      "Epoch 358/500\n",
      "266/266 [==============================] - 5s 19ms/step - loss: 0.3023 - acc: 0.8877 - val_loss: 0.3065 - val_acc: 0.8860\n",
      "Epoch 359/500\n",
      "266/266 [==============================] - 5s 19ms/step - loss: 0.2955 - acc: 0.8840 - val_loss: 0.2841 - val_acc: 0.9016\n",
      "Epoch 360/500\n",
      "266/266 [==============================] - 5s 19ms/step - loss: 0.3025 - acc: 0.8915 - val_loss: 0.3307 - val_acc: 0.8857\n",
      "Epoch 361/500\n",
      "266/266 [==============================] - 5s 18ms/step - loss: 0.2941 - acc: 0.8860 - val_loss: 0.3141 - val_acc: 0.8895\n",
      "Epoch 362/500\n",
      "266/266 [==============================] - 5s 18ms/step - loss: 0.3020 - acc: 0.8942 - val_loss: 0.3418 - val_acc: 0.8803\n",
      "Epoch 363/500\n",
      "266/266 [==============================] - 5s 19ms/step - loss: 0.3047 - acc: 0.8850 - val_loss: 0.2842 - val_acc: 0.8960\n",
      "Epoch 364/500\n",
      "266/266 [==============================] - 5s 18ms/step - loss: 0.2748 - acc: 0.8937 - val_loss: 0.2991 - val_acc: 0.8981\n",
      "Epoch 365/500\n",
      "266/266 [==============================] - 5s 18ms/step - loss: 0.2800 - acc: 0.8947 - val_loss: 0.2969 - val_acc: 0.9008\n",
      "Epoch 366/500\n",
      "266/266 [==============================] - 5s 19ms/step - loss: 0.2886 - acc: 0.8947 - val_loss: 0.3214 - val_acc: 0.8877\n",
      "Epoch 367/500\n",
      "266/266 [==============================] - 5s 19ms/step - loss: 0.2644 - acc: 0.9025 - val_loss: 0.3000 - val_acc: 0.8923\n",
      "Epoch 368/500\n",
      "266/266 [==============================] - 5s 19ms/step - loss: 0.2766 - acc: 0.9000 - val_loss: 0.3052 - val_acc: 0.8915\n",
      "Epoch 369/500\n",
      "266/266 [==============================] - 5s 18ms/step - loss: 0.3052 - acc: 0.8842 - val_loss: 0.3305 - val_acc: 0.8793\n",
      "Epoch 370/500\n",
      "266/266 [==============================] - 5s 19ms/step - loss: 0.3077 - acc: 0.8895 - val_loss: 0.3121 - val_acc: 0.8927\n",
      "Epoch 371/500\n",
      "266/266 [==============================] - 5s 19ms/step - loss: 0.3110 - acc: 0.8857 - val_loss: 0.3090 - val_acc: 0.8900\n",
      "Epoch 372/500\n",
      "266/266 [==============================] - 5s 19ms/step - loss: 0.2983 - acc: 0.8895 - val_loss: 0.3204 - val_acc: 0.8846\n",
      "Epoch 373/500\n",
      "266/266 [==============================] - 5s 19ms/step - loss: 0.3065 - acc: 0.8870 - val_loss: 0.2939 - val_acc: 0.8987\n",
      "Epoch 374/500\n",
      "266/266 [==============================] - 5s 19ms/step - loss: 0.2911 - acc: 0.8897 - val_loss: 0.2894 - val_acc: 0.8966\n",
      "Epoch 375/500\n",
      "266/266 [==============================] - 5s 19ms/step - loss: 0.3077 - acc: 0.8855 - val_loss: 0.3003 - val_acc: 0.8927\n",
      "Epoch 376/500\n",
      "266/266 [==============================] - 5s 19ms/step - loss: 0.2991 - acc: 0.8905 - val_loss: 0.3192 - val_acc: 0.8872\n",
      "Epoch 377/500\n",
      "266/266 [==============================] - 5s 19ms/step - loss: 0.2981 - acc: 0.8865 - val_loss: 0.3115 - val_acc: 0.8901\n",
      "Epoch 378/500\n",
      "266/266 [==============================] - 5s 18ms/step - loss: 0.2856 - acc: 0.8962 - val_loss: 0.3269 - val_acc: 0.8862\n",
      "Epoch 379/500\n",
      "266/266 [==============================] - 5s 19ms/step - loss: 0.2800 - acc: 0.8972 - val_loss: 0.2871 - val_acc: 0.8981\n",
      "Epoch 380/500\n",
      "266/266 [==============================] - 5s 19ms/step - loss: 0.2889 - acc: 0.8885 - val_loss: 0.3024 - val_acc: 0.8867\n",
      "Epoch 381/500\n",
      "266/266 [==============================] - 5s 19ms/step - loss: 0.3008 - acc: 0.8907 - val_loss: 0.3318 - val_acc: 0.8822\n",
      "Epoch 382/500\n",
      "266/266 [==============================] - 5s 19ms/step - loss: 0.3060 - acc: 0.8840 - val_loss: 0.2879 - val_acc: 0.8971\n",
      "Epoch 383/500\n",
      "266/266 [==============================] - 5s 19ms/step - loss: 0.3020 - acc: 0.8890 - val_loss: 0.2982 - val_acc: 0.8900\n",
      "Epoch 384/500\n",
      "266/266 [==============================] - 5s 19ms/step - loss: 0.2821 - acc: 0.8895 - val_loss: 0.3238 - val_acc: 0.8971\n",
      "Epoch 385/500\n",
      "266/266 [==============================] - 5s 19ms/step - loss: 0.3066 - acc: 0.8880 - val_loss: 0.3323 - val_acc: 0.8880\n",
      "Epoch 386/500\n",
      "266/266 [==============================] - 5s 18ms/step - loss: 0.2983 - acc: 0.8862 - val_loss: 0.3190 - val_acc: 0.8882\n",
      "Epoch 387/500\n",
      "266/266 [==============================] - 5s 19ms/step - loss: 0.2850 - acc: 0.8982 - val_loss: 0.3022 - val_acc: 0.8916\n",
      "Epoch 388/500\n",
      "266/266 [==============================] - 5s 19ms/step - loss: 0.3108 - acc: 0.8837 - val_loss: 0.3137 - val_acc: 0.8905\n",
      "Epoch 389/500\n",
      "266/266 [==============================] - 5s 18ms/step - loss: 0.2798 - acc: 0.8975 - val_loss: 0.3123 - val_acc: 0.8921\n",
      "Epoch 390/500\n",
      "266/266 [==============================] - 5s 18ms/step - loss: 0.2935 - acc: 0.8862 - val_loss: 0.3135 - val_acc: 0.8870\n",
      "Epoch 391/500\n",
      "266/266 [==============================] - 5s 18ms/step - loss: 0.2877 - acc: 0.8930 - val_loss: 0.2813 - val_acc: 0.8990\n",
      "Epoch 392/500\n",
      "266/266 [==============================] - 5s 19ms/step - loss: 0.2721 - acc: 0.8927 - val_loss: 0.3111 - val_acc: 0.8913\n",
      "Epoch 393/500\n",
      "266/266 [==============================] - 5s 18ms/step - loss: 0.2855 - acc: 0.8885 - val_loss: 0.2922 - val_acc: 0.8942\n",
      "Epoch 394/500\n",
      "266/266 [==============================] - 5s 19ms/step - loss: 0.2907 - acc: 0.8910 - val_loss: 0.3254 - val_acc: 0.8841\n",
      "Epoch 395/500\n",
      "266/266 [==============================] - 5s 19ms/step - loss: 0.2986 - acc: 0.8885 - val_loss: 0.2738 - val_acc: 0.8970\n",
      "Epoch 396/500\n",
      "266/266 [==============================] - 5s 19ms/step - loss: 0.3017 - acc: 0.8900 - val_loss: 0.3337 - val_acc: 0.8830\n",
      "Epoch 397/500\n",
      "266/266 [==============================] - 5s 19ms/step - loss: 0.2985 - acc: 0.8927 - val_loss: 0.3123 - val_acc: 0.8893\n",
      "Epoch 398/500\n",
      "266/266 [==============================] - 5s 19ms/step - loss: 0.2903 - acc: 0.8922 - val_loss: 0.3056 - val_acc: 0.8917\n",
      "Epoch 399/500\n",
      "266/266 [==============================] - 5s 19ms/step - loss: 0.3051 - acc: 0.8862 - val_loss: 0.3017 - val_acc: 0.8853\n",
      "Epoch 400/500\n",
      "266/266 [==============================] - 5s 19ms/step - loss: 0.2883 - acc: 0.8980 - val_loss: 0.2797 - val_acc: 0.9010\n",
      "Epoch 401/500\n",
      "266/266 [==============================] - 5s 19ms/step - loss: 0.2841 - acc: 0.8962 - val_loss: 0.3274 - val_acc: 0.8855\n",
      "Epoch 402/500\n",
      "266/266 [==============================] - 5s 19ms/step - loss: 0.2851 - acc: 0.8947 - val_loss: 0.3236 - val_acc: 0.8853\n",
      "Epoch 403/500\n",
      "266/266 [==============================] - 5s 19ms/step - loss: 0.3168 - acc: 0.8870 - val_loss: 0.3057 - val_acc: 0.8890\n",
      "Epoch 404/500\n",
      "266/266 [==============================] - 5s 19ms/step - loss: 0.2643 - acc: 0.9035 - val_loss: 0.2838 - val_acc: 0.8971\n",
      "Epoch 405/500\n",
      "266/266 [==============================] - 5s 19ms/step - loss: 0.3054 - acc: 0.8865 - val_loss: 0.3027 - val_acc: 0.8897\n",
      "Epoch 406/500\n",
      "266/266 [==============================] - 5s 19ms/step - loss: 0.3051 - acc: 0.8840 - val_loss: 0.3020 - val_acc: 0.8920\n",
      "Epoch 407/500\n",
      "266/266 [==============================] - 5s 19ms/step - loss: 0.2965 - acc: 0.8887 - val_loss: 0.3147 - val_acc: 0.8878\n",
      "Epoch 408/500\n",
      "266/266 [==============================] - 5s 19ms/step - loss: 0.2847 - acc: 0.8940 - val_loss: 0.2936 - val_acc: 0.8955\n",
      "Epoch 409/500\n",
      "266/266 [==============================] - 5s 19ms/step - loss: 0.2997 - acc: 0.8870 - val_loss: 0.3135 - val_acc: 0.8848\n",
      "Epoch 410/500\n",
      "266/266 [==============================] - 5s 18ms/step - loss: 0.2915 - acc: 0.8965 - val_loss: 0.3300 - val_acc: 0.8842\n",
      "Epoch 411/500\n",
      "266/266 [==============================] - 5s 19ms/step - loss: 0.2779 - acc: 0.8985 - val_loss: 0.2870 - val_acc: 0.9013\n",
      "Epoch 412/500\n",
      "266/266 [==============================] - 5s 19ms/step - loss: 0.3079 - acc: 0.8912 - val_loss: 0.3141 - val_acc: 0.8906\n",
      "Epoch 413/500\n",
      "266/266 [==============================] - 5s 19ms/step - loss: 0.2760 - acc: 0.8977 - val_loss: 0.2974 - val_acc: 0.8867\n",
      "Epoch 414/500\n",
      "266/266 [==============================] - 5s 18ms/step - loss: 0.2904 - acc: 0.8865 - val_loss: 0.2780 - val_acc: 0.9001\n",
      "Epoch 415/500\n",
      "266/266 [==============================] - 5s 19ms/step - loss: 0.2865 - acc: 0.8932 - val_loss: 0.3133 - val_acc: 0.8990\n",
      "Epoch 416/500\n",
      "266/266 [==============================] - 5s 19ms/step - loss: 0.2910 - acc: 0.8935 - val_loss: 0.3179 - val_acc: 0.8857\n",
      "Epoch 417/500\n",
      "266/266 [==============================] - 5s 18ms/step - loss: 0.3036 - acc: 0.8840 - val_loss: 0.2925 - val_acc: 0.8936\n",
      "Epoch 418/500\n",
      "266/266 [==============================] - 5s 19ms/step - loss: 0.2821 - acc: 0.8975 - val_loss: 0.2923 - val_acc: 0.8940\n",
      "Epoch 419/500\n",
      "266/266 [==============================] - 5s 19ms/step - loss: 0.3122 - acc: 0.8799 - val_loss: 0.3140 - val_acc: 0.8923\n",
      "Epoch 420/500\n",
      "266/266 [==============================] - 5s 19ms/step - loss: 0.2849 - acc: 0.8947 - val_loss: 0.3092 - val_acc: 0.8935\n",
      "Epoch 421/500\n",
      "266/266 [==============================] - 5s 19ms/step - loss: 0.2999 - acc: 0.8932 - val_loss: 0.3030 - val_acc: 0.8967\n",
      "Epoch 422/500\n",
      "266/266 [==============================] - 5s 19ms/step - loss: 0.2914 - acc: 0.8892 - val_loss: 0.3009 - val_acc: 0.8976\n",
      "Epoch 423/500\n",
      "266/266 [==============================] - 5s 19ms/step - loss: 0.2904 - acc: 0.8905 - val_loss: 0.3221 - val_acc: 0.8865\n",
      "Epoch 424/500\n",
      "266/266 [==============================] - 5s 19ms/step - loss: 0.2993 - acc: 0.8877 - val_loss: 0.2975 - val_acc: 0.8954\n",
      "Epoch 425/500\n",
      "266/266 [==============================] - 5s 19ms/step - loss: 0.2898 - acc: 0.8967 - val_loss: 0.3255 - val_acc: 0.8882\n",
      "Epoch 426/500\n",
      "266/266 [==============================] - 5s 19ms/step - loss: 0.2909 - acc: 0.8867 - val_loss: 0.3140 - val_acc: 0.8897\n",
      "Epoch 427/500\n",
      "266/266 [==============================] - 5s 18ms/step - loss: 0.2804 - acc: 0.8985 - val_loss: 0.2961 - val_acc: 0.8949\n",
      "Epoch 428/500\n",
      "266/266 [==============================] - 5s 18ms/step - loss: 0.2895 - acc: 0.8955 - val_loss: 0.3297 - val_acc: 0.8872\n",
      "Epoch 429/500\n",
      "266/266 [==============================] - 5s 19ms/step - loss: 0.2729 - acc: 0.9033 - val_loss: 0.3315 - val_acc: 0.8816\n",
      "Epoch 430/500\n",
      "266/266 [==============================] - 5s 18ms/step - loss: 0.2771 - acc: 0.9003 - val_loss: 0.2850 - val_acc: 0.9040\n",
      "Epoch 431/500\n",
      "266/266 [==============================] - 5s 18ms/step - loss: 0.2832 - acc: 0.8970 - val_loss: 0.3104 - val_acc: 0.8942\n",
      "Epoch 432/500\n",
      "266/266 [==============================] - 5s 18ms/step - loss: 0.3132 - acc: 0.8845 - val_loss: 0.3145 - val_acc: 0.8893\n",
      "Epoch 433/500\n",
      "266/266 [==============================] - 5s 19ms/step - loss: 0.3001 - acc: 0.8895 - val_loss: 0.3172 - val_acc: 0.8917\n",
      "Epoch 434/500\n",
      "266/266 [==============================] - 5s 19ms/step - loss: 0.2857 - acc: 0.8970 - val_loss: 0.3039 - val_acc: 0.8881\n",
      "Epoch 435/500\n",
      "266/266 [==============================] - 5s 19ms/step - loss: 0.2964 - acc: 0.8857 - val_loss: 0.2903 - val_acc: 0.8995\n",
      "Epoch 436/500\n",
      "266/266 [==============================] - 5s 19ms/step - loss: 0.2838 - acc: 0.8947 - val_loss: 0.2939 - val_acc: 0.8940\n",
      "Epoch 437/500\n",
      "266/266 [==============================] - 5s 19ms/step - loss: 0.2768 - acc: 0.8957 - val_loss: 0.3123 - val_acc: 0.8916\n",
      "Epoch 438/500\n",
      "266/266 [==============================] - 5s 19ms/step - loss: 0.2843 - acc: 0.8942 - val_loss: 0.3038 - val_acc: 0.8935\n",
      "Epoch 439/500\n",
      "266/266 [==============================] - 5s 19ms/step - loss: 0.2846 - acc: 0.8892 - val_loss: 0.3096 - val_acc: 0.8928\n",
      "Epoch 440/500\n",
      "266/266 [==============================] - 5s 19ms/step - loss: 0.2937 - acc: 0.8965 - val_loss: 0.3182 - val_acc: 0.8917\n",
      "Epoch 441/500\n",
      "266/266 [==============================] - 5s 19ms/step - loss: 0.2895 - acc: 0.8920 - val_loss: 0.2844 - val_acc: 0.8992\n",
      "Epoch 442/500\n",
      "266/266 [==============================] - 5s 18ms/step - loss: 0.2849 - acc: 0.8937 - val_loss: 0.2959 - val_acc: 0.9014\n",
      "Epoch 443/500\n",
      "266/266 [==============================] - 5s 19ms/step - loss: 0.2833 - acc: 0.8925 - val_loss: 0.3378 - val_acc: 0.8759\n",
      "Epoch 444/500\n",
      "266/266 [==============================] - 5s 19ms/step - loss: 0.2783 - acc: 0.8915 - val_loss: 0.2866 - val_acc: 0.8936\n",
      "Epoch 445/500\n",
      "266/266 [==============================] - 5s 19ms/step - loss: 0.2931 - acc: 0.8965 - val_loss: 0.3015 - val_acc: 0.9018\n",
      "Epoch 446/500\n",
      "266/266 [==============================] - 5s 19ms/step - loss: 0.2765 - acc: 0.9000 - val_loss: 0.3113 - val_acc: 0.8890\n",
      "Epoch 447/500\n",
      "266/266 [==============================] - 5s 19ms/step - loss: 0.2989 - acc: 0.8920 - val_loss: 0.2844 - val_acc: 0.9014\n",
      "Epoch 448/500\n",
      "266/266 [==============================] - 5s 19ms/step - loss: 0.3250 - acc: 0.8890 - val_loss: 0.3183 - val_acc: 0.8972\n",
      "Epoch 449/500\n",
      "266/266 [==============================] - 5s 19ms/step - loss: 0.2928 - acc: 0.8870 - val_loss: 0.3047 - val_acc: 0.8976\n",
      "Epoch 450/500\n",
      "266/266 [==============================] - 5s 19ms/step - loss: 0.2942 - acc: 0.8885 - val_loss: 0.2978 - val_acc: 0.8967\n",
      "Epoch 451/500\n",
      "266/266 [==============================] - 5s 19ms/step - loss: 0.2969 - acc: 0.8910 - val_loss: 0.3237 - val_acc: 0.8779\n",
      "Epoch 452/500\n",
      "266/266 [==============================] - 5s 19ms/step - loss: 0.2892 - acc: 0.8895 - val_loss: 0.3111 - val_acc: 0.8916\n",
      "Epoch 453/500\n",
      "266/266 [==============================] - 5s 19ms/step - loss: 0.2915 - acc: 0.8900 - val_loss: 0.3081 - val_acc: 0.8935\n",
      "Epoch 454/500\n",
      "266/266 [==============================] - 5s 19ms/step - loss: 0.2784 - acc: 0.8962 - val_loss: 0.2919 - val_acc: 0.8979\n",
      "Epoch 455/500\n",
      "266/266 [==============================] - 5s 19ms/step - loss: 0.2987 - acc: 0.8910 - val_loss: 0.3120 - val_acc: 0.8952\n",
      "Epoch 456/500\n",
      "266/266 [==============================] - 5s 19ms/step - loss: 0.2748 - acc: 0.9030 - val_loss: 0.2893 - val_acc: 0.8977\n",
      "Epoch 457/500\n",
      "266/266 [==============================] - 5s 19ms/step - loss: 0.2698 - acc: 0.8985 - val_loss: 0.2958 - val_acc: 0.8984\n",
      "Epoch 458/500\n",
      "266/266 [==============================] - 5s 19ms/step - loss: 0.2650 - acc: 0.9033 - val_loss: 0.3294 - val_acc: 0.8807\n",
      "Epoch 459/500\n",
      "266/266 [==============================] - 5s 19ms/step - loss: 0.3041 - acc: 0.8837 - val_loss: 0.3094 - val_acc: 0.8896\n",
      "Epoch 460/500\n",
      "266/266 [==============================] - 5s 19ms/step - loss: 0.3085 - acc: 0.8840 - val_loss: 0.2845 - val_acc: 0.8977\n",
      "Epoch 461/500\n",
      "266/266 [==============================] - 5s 19ms/step - loss: 0.2825 - acc: 0.8915 - val_loss: 0.3133 - val_acc: 0.8897\n",
      "Epoch 462/500\n",
      "266/266 [==============================] - 5s 19ms/step - loss: 0.2887 - acc: 0.8947 - val_loss: 0.3566 - val_acc: 0.8745\n",
      "Epoch 463/500\n",
      "266/266 [==============================] - 5s 19ms/step - loss: 0.2824 - acc: 0.8927 - val_loss: 0.3170 - val_acc: 0.8920\n",
      "Epoch 464/500\n",
      "266/266 [==============================] - 5s 19ms/step - loss: 0.3054 - acc: 0.8920 - val_loss: 0.3134 - val_acc: 0.8908\n",
      "Epoch 465/500\n",
      "266/266 [==============================] - 5s 19ms/step - loss: 0.3028 - acc: 0.8925 - val_loss: 0.3091 - val_acc: 0.8982\n",
      "Epoch 466/500\n",
      "266/266 [==============================] - 5s 19ms/step - loss: 0.2782 - acc: 0.8987 - val_loss: 0.2971 - val_acc: 0.8947\n",
      "Epoch 467/500\n",
      "266/266 [==============================] - 5s 19ms/step - loss: 0.2744 - acc: 0.8922 - val_loss: 0.2976 - val_acc: 0.8939\n",
      "Epoch 468/500\n",
      "266/266 [==============================] - 5s 19ms/step - loss: 0.2920 - acc: 0.8937 - val_loss: 0.3028 - val_acc: 0.8977\n",
      "Epoch 469/500\n",
      "266/266 [==============================] - 5s 19ms/step - loss: 0.2548 - acc: 0.9048 - val_loss: 0.3152 - val_acc: 0.8916\n",
      "Epoch 470/500\n",
      "266/266 [==============================] - 5s 19ms/step - loss: 0.2861 - acc: 0.8982 - val_loss: 0.3258 - val_acc: 0.8902\n",
      "Epoch 471/500\n",
      "266/266 [==============================] - 5s 19ms/step - loss: 0.2710 - acc: 0.8937 - val_loss: 0.2824 - val_acc: 0.8967\n",
      "Epoch 472/500\n",
      "266/266 [==============================] - 5s 19ms/step - loss: 0.2907 - acc: 0.8900 - val_loss: 0.3220 - val_acc: 0.8851\n",
      "Epoch 473/500\n",
      "266/266 [==============================] - 5s 19ms/step - loss: 0.2839 - acc: 0.8930 - val_loss: 0.2757 - val_acc: 0.9048\n",
      "Epoch 474/500\n",
      "266/266 [==============================] - 5s 19ms/step - loss: 0.2939 - acc: 0.8905 - val_loss: 0.3211 - val_acc: 0.8876\n",
      "Epoch 475/500\n",
      "266/266 [==============================] - 5s 19ms/step - loss: 0.2912 - acc: 0.8905 - val_loss: 0.3250 - val_acc: 0.8847\n",
      "Epoch 476/500\n",
      "266/266 [==============================] - 5s 19ms/step - loss: 0.2822 - acc: 0.8955 - val_loss: 0.3098 - val_acc: 0.8945\n",
      "Epoch 477/500\n",
      "266/266 [==============================] - 5s 19ms/step - loss: 0.2847 - acc: 0.8960 - val_loss: 0.3265 - val_acc: 0.8939\n",
      "Epoch 478/500\n",
      "266/266 [==============================] - 5s 19ms/step - loss: 0.3030 - acc: 0.8832 - val_loss: 0.3203 - val_acc: 0.8867\n",
      "Epoch 479/500\n",
      "266/266 [==============================] - 5s 18ms/step - loss: 0.2965 - acc: 0.8915 - val_loss: 0.2828 - val_acc: 0.8989\n",
      "Epoch 480/500\n",
      "266/266 [==============================] - 5s 18ms/step - loss: 0.2979 - acc: 0.8877 - val_loss: 0.2995 - val_acc: 0.8982\n",
      "Epoch 481/500\n",
      "266/266 [==============================] - 5s 19ms/step - loss: 0.3066 - acc: 0.8845 - val_loss: 0.3097 - val_acc: 0.8930\n",
      "Epoch 482/500\n",
      "266/266 [==============================] - 5s 19ms/step - loss: 0.2873 - acc: 0.8937 - val_loss: 0.3063 - val_acc: 0.8946\n",
      "Epoch 483/500\n",
      "266/266 [==============================] - 5s 19ms/step - loss: 0.2919 - acc: 0.8930 - val_loss: 0.3059 - val_acc: 0.8912\n",
      "Epoch 484/500\n",
      "266/266 [==============================] - 5s 19ms/step - loss: 0.2852 - acc: 0.8967 - val_loss: 0.2964 - val_acc: 0.8934\n",
      "Epoch 485/500\n",
      "266/266 [==============================] - 5s 19ms/step - loss: 0.2871 - acc: 0.8892 - val_loss: 0.2964 - val_acc: 0.8970\n",
      "Epoch 486/500\n",
      "266/266 [==============================] - 5s 19ms/step - loss: 0.3064 - acc: 0.8872 - val_loss: 0.3210 - val_acc: 0.8832\n",
      "Epoch 487/500\n",
      "266/266 [==============================] - 5s 18ms/step - loss: 0.2638 - acc: 0.9038 - val_loss: 0.3271 - val_acc: 0.8750\n",
      "Epoch 488/500\n",
      "266/266 [==============================] - 5s 18ms/step - loss: 0.2907 - acc: 0.8922 - val_loss: 0.2761 - val_acc: 0.8997\n",
      "Epoch 489/500\n",
      "266/266 [==============================] - 5s 19ms/step - loss: 0.2971 - acc: 0.8952 - val_loss: 0.3141 - val_acc: 0.8944\n",
      "Epoch 490/500\n",
      "266/266 [==============================] - 5s 19ms/step - loss: 0.2695 - acc: 0.8972 - val_loss: 0.2867 - val_acc: 0.8990\n",
      "Epoch 491/500\n",
      "266/266 [==============================] - 5s 19ms/step - loss: 0.2803 - acc: 0.8947 - val_loss: 0.2923 - val_acc: 0.8922\n",
      "Epoch 492/500\n",
      "266/266 [==============================] - 5s 19ms/step - loss: 0.3089 - acc: 0.8857 - val_loss: 0.3275 - val_acc: 0.8843\n",
      "Epoch 493/500\n",
      "266/266 [==============================] - 5s 18ms/step - loss: 0.2857 - acc: 0.8957 - val_loss: 0.2958 - val_acc: 0.8840\n",
      "Epoch 494/500\n",
      "266/266 [==============================] - 5s 19ms/step - loss: 0.2739 - acc: 0.9020 - val_loss: 0.2992 - val_acc: 0.8936\n",
      "Epoch 495/500\n",
      "266/266 [==============================] - 5s 19ms/step - loss: 0.2741 - acc: 0.8957 - val_loss: 0.3143 - val_acc: 0.8932\n",
      "Epoch 496/500\n",
      "266/266 [==============================] - 5s 19ms/step - loss: 0.2933 - acc: 0.8910 - val_loss: 0.2974 - val_acc: 0.8940\n",
      "Epoch 497/500\n",
      "266/266 [==============================] - 5s 19ms/step - loss: 0.2854 - acc: 0.8950 - val_loss: 0.3047 - val_acc: 0.8916\n",
      "Epoch 498/500\n",
      "266/266 [==============================] - 5s 19ms/step - loss: 0.2785 - acc: 0.8967 - val_loss: 0.2938 - val_acc: 0.8920\n",
      "Epoch 499/500\n",
      "266/266 [==============================] - 5s 19ms/step - loss: 0.3026 - acc: 0.8907 - val_loss: 0.3174 - val_acc: 0.8908\n",
      "Epoch 500/500\n",
      "266/266 [==============================] - 5s 19ms/step - loss: 0.2796 - acc: 0.8982 - val_loss: 0.3047 - val_acc: 0.8952\n",
      "Time to train Model:\t 41.28493243058522  minutes\n"
     ]
    }
   ],
   "source": [
    "### Answer D1\n",
    "# Fit the model on batches and evaluate\n",
    "batch_size = 15\n",
    "training_set = datagen_train.flow(X_train_reshaped, y_binary_train, batch_size=batch_size)\n",
    "test_set = datagen_test.flow(X_test_reshaped, y_binary_test, batch_size=batch_size)\n",
    "\n",
    "no_of_steps = int(len(training_set)/batch_size)\n",
    "print(\"Length of trainig set:\\t\",len(training_set),\"\\nno of steps:\\t\",no_of_steps)\n",
    "start = time.time()\n",
    "cnn_model = net.fit_generator(training_set, epochs=500, validation_data=test_set, steps_per_epoch=no_of_steps, validation_steps=no_of_steps)\n",
    "end = time.time()\n",
    "print(\"Time to train Model:\\t\", float((end-start)/60),\" minutes\")"
   ]
  },
  {
   "cell_type": "markdown",
   "metadata": {
    "colab_type": "text",
    "id": "VtQMuwamV4Qt"
   },
   "source": [
    "- Take note of you loss and accuracy scores on both the training and validation for each epoch. Do these values converge?\n",
    "- You should produce a model that has a test accuracy greater than 95% and that is deemed not to overfit.\n",
    "\n",
    "Some things you might want to consider changing to increase the performance of your model:\n",
    "        - often a simpler preprocessing stage can lead to better performance\n",
    "        - for this dataset, augmentation is not really necessary as the data quality is good and the training and testing datasets are distinct yet similar and well distributed\n",
    "        - a relatively simple model should result in good performance\n",
    "        - For the 'fit_generator', try setting the step size to the length of the training set divided by the batch size (probably won't effect performance too much but is good form to use all data in batches\n",
    "        "
   ]
  },
  {
   "cell_type": "markdown",
   "metadata": {
    "colab_type": "text",
    "id": "iWY01d0xV4Qw"
   },
   "source": [
    "The model can be evaluated using the 'evaluate_generator' class routine. This will yield the same evaluation metric collected at the end of the final training epoch for the validation on the test data. Therefore calculating it again below is redundant."
   ]
  },
  {
   "cell_type": "code",
   "execution_count": 66,
   "metadata": {
    "colab": {
     "base_uri": "https://localhost:8080/",
     "height": 34
    },
    "colab_type": "code",
    "executionInfo": {
     "elapsed": 1256,
     "status": "ok",
     "timestamp": 1544162482554,
     "user": {
      "displayName": "I110320 M.Abubakar",
      "photoUrl": "https://lh4.googleusercontent.com/-RQ9G8JDj-0A/AAAAAAAAAAI/AAAAAAAAAAA/f9dkI-cWZBA/s64/photo.jpg",
      "userId": "17893374916846866038"
     },
     "user_tz": 0
    },
    "id": "PED3dwfOV4Qy",
    "outputId": "7eed035c-c253-4121-8900-6c2b8ad8a47b"
   },
   "outputs": [
    {
     "data": {
      "text/plain": [
       "[0.2940726980473846, 0.8913333398103714]"
      ]
     },
     "execution_count": 66,
     "metadata": {
      "tags": []
     },
     "output_type": "execute_result"
    }
   ],
   "source": [
    "# This is the same evaluation as to that which was done on the test data at the end of the final epoch \n",
    "# during training. \n",
    "net.evaluate_generator(test_set, steps=100)"
   ]
  },
  {
   "cell_type": "code",
   "execution_count": 67,
   "metadata": {
    "colab": {
     "base_uri": "https://localhost:8080/",
     "height": 282
    },
    "colab_type": "code",
    "executionInfo": {
     "elapsed": 956,
     "status": "ok",
     "timestamp": 1544162494549,
     "user": {
      "displayName": "I110320 M.Abubakar",
      "photoUrl": "https://lh4.googleusercontent.com/-RQ9G8JDj-0A/AAAAAAAAAAI/AAAAAAAAAAA/f9dkI-cWZBA/s64/photo.jpg",
      "userId": "17893374916846866038"
     },
     "user_tz": 0
    },
    "id": "6awLizLweIRY",
    "outputId": "4d24c6b5-e9c2-461d-f899-1d1c5a57d35d"
   },
   "outputs": [
    {
     "name": "stdout",
     "output_type": "stream",
     "text": [
      "<keras.callbacks.History object at 0x7f99f6bbc2b0>\n"
     ]
    },
    {
     "data": {
      "image/png": "[encoded data removed]",
      "text/plain": [
       "<matplotlib.figure.Figure at 0x7f99f0599828>"
      ]
     },
     "metadata": {
      "tags": []
     },
     "output_type": "display_data"
    }
   ],
   "source": [
    "print(cnn_model)\n",
    "# Define a function which plots training accuracy and loss across\n",
    "# the different epochs.\n",
    "def plot_loss_acc(history):\n",
    "    plt.plot(history.history['loss'], label='loss')\n",
    "    plt.plot(history.history['acc'], label='accuracy')\n",
    "    plt.legend()\n",
    "    plt.show()\n",
    "\n",
    "plot_loss_acc(cnn_model)"
   ]
  },
  {
   "cell_type": "markdown",
   "metadata": {
    "colab_type": "text",
    "id": "CVNl9HW4V4RG"
   },
   "source": [
    "Below is a method which predicts the class of a batch sampled from the generator on the test data. The image is then printed along with the predicted and true class. Whether the prediction was correct was also outputted. Note that this would have been done for all batches in the test data if the 'break' statement was removed at the bottom of the for-loop. "
   ]
  },
  {
   "cell_type": "code",
   "execution_count": 69,
   "metadata": {
    "colab": {
     "base_uri": "https://localhost:8080/",
     "height": 2725
    },
    "colab_type": "code",
    "executionInfo": {
     "elapsed": 1760,
     "status": "ok",
     "timestamp": 1544162533218,
     "user": {
      "displayName": "I110320 M.Abubakar",
      "photoUrl": "https://lh4.googleusercontent.com/-RQ9G8JDj-0A/AAAAAAAAAAI/AAAAAAAAAAA/f9dkI-cWZBA/s64/photo.jpg",
      "userId": "17893374916846866038"
     },
     "user_tz": 0
    },
    "id": "AFxCgO10V4RJ",
    "outputId": "13337e18-5818-4ec0-dc81-60619c4a787c",
    "scrolled": false
   },
   "outputs": [
    {
     "name": "stdout",
     "output_type": "stream",
     "text": [
      "\r",
      "9/9 [==============================] - 0s 404us/step\n"
     ]
    },
    {
     "data": {
      "image/png": "[encoded data removed]",
      "text/plain": [
       "<matplotlib.figure.Figure at 0x7f99f6bd4b70>"
      ]
     },
     "metadata": {
      "tags": []
     },
     "output_type": "display_data"
    },
    {
     "name": "stdout",
     "output_type": "stream",
     "text": [
      "Predicted Label:  Pullover\n",
      "True Label:  Pullover\n",
      "Correct\n"
     ]
    },
    {
     "data": {
      "image/png": "[encoded data removed]",
      "text/plain": [
       "<matplotlib.figure.Figure at 0x7f99f0194cf8>"
      ]
     },
     "metadata": {
      "tags": []
     },
     "output_type": "display_data"
    },
    {
     "name": "stdout",
     "output_type": "stream",
     "text": [
      "Predicted Label:  T-shirt/top\n",
      "True Label:  T-shirt/top\n",
      "Correct\n"
     ]
    },
    {
     "data": {
      "image/png": "[encoded data removed]",
      "text/plain": [
       "<matplotlib.figure.Figure at 0x7f99f0106668>"
      ]
     },
     "metadata": {
      "tags": []
     },
     "output_type": "display_data"
    },
    {
     "name": "stdout",
     "output_type": "stream",
     "text": [
      "Predicted Label:  Dress\n",
      "True Label:  Dress\n",
      "Correct\n"
     ]
    },
    {
     "data": {
      "image/png": "[encoded data removed]",
      "text/plain": [
       "<matplotlib.figure.Figure at 0x7f99f00a89e8>"
      ]
     },
     "metadata": {
      "tags": []
     },
     "output_type": "display_data"
    },
    {
     "name": "stdout",
     "output_type": "stream",
     "text": [
      "Predicted Label:  Pullover\n",
      "True Label:  Pullover\n",
      "Correct\n"
     ]
    },
    {
     "data": {
      "image/png": "[encoded data removed]",
      "text/plain": [
       "<matplotlib.figure.Figure at 0x7f99f007ba90>"
      ]
     },
     "metadata": {
      "tags": []
     },
     "output_type": "display_data"
    },
    {
     "name": "stdout",
     "output_type": "stream",
     "text": [
      "Predicted Label:  Ankle boot\n",
      "True Label:  Ankle boot\n",
      "Correct\n"
     ]
    },
    {
     "data": {
      "image/png": "[encoded data removed]",
      "text/plain": [
       "<matplotlib.figure.Figure at 0x7f99defec860>"
      ]
     },
     "metadata": {
      "tags": []
     },
     "output_type": "display_data"
    },
    {
     "name": "stdout",
     "output_type": "stream",
     "text": [
      "Predicted Label:  Bag\n",
      "True Label:  Dress\n",
      "Incorrect\n"
     ]
    },
    {
     "data": {
      "image/png": "[encoded data removed]",
      "text/plain": [
       "<matplotlib.figure.Figure at 0x7f99defa7da0>"
      ]
     },
     "metadata": {
      "tags": []
     },
     "output_type": "display_data"
    },
    {
     "name": "stdout",
     "output_type": "stream",
     "text": [
      "Predicted Label:  T-shirt/top\n",
      "True Label:  T-shirt/top\n",
      "Correct\n"
     ]
    },
    {
     "data": {
      "image/png": "[encoded data removed]",
      "text/plain": [
       "<matplotlib.figure.Figure at 0x7f99def6de10>"
      ]
     },
     "metadata": {
      "tags": []
     },
     "output_type": "display_data"
    },
    {
     "name": "stdout",
     "output_type": "stream",
     "text": [
      "Predicted Label:  Shirt\n",
      "True Label:  Shirt\n",
      "Correct\n"
     ]
    },
    {
     "data": {
      "image/png": "[encoded data removed]",
      "text/plain": [
       "<matplotlib.figure.Figure at 0x7f99def21940>"
      ]
     },
     "metadata": {
      "tags": []
     },
     "output_type": "display_data"
    },
    {
     "name": "stdout",
     "output_type": "stream",
     "text": [
      "Predicted Label:  T-shirt/top\n",
      "True Label:  T-shirt/top\n",
      "Correct\n"
     ]
    }
   ],
   "source": [
    "# configure batch size and retrieve one batch of images\n",
    "for X_batch, y_batch in datagen_test.flow(X_test_reshaped, y_test, batch_size=9):\n",
    "    # Get predicted values of each test sample but also convert from 1-hot to the corresponding class'\n",
    "    # integer representation.\n",
    "    #y_pred_as_integers = net.predict_on_batch(X_batch)\n",
    "    #y_pred_as_integers = net.predict_on_batch(X_batch)\n",
    "    y_pred_as_integers= net.predict_classes(X_batch, batch_size=9, verbose=1)\n",
    "\n",
    "    # create a grid of 3x3 images\n",
    "    for i in range(0, 9):\n",
    "        plt.imshow(X_batch[i].reshape(28, 28), cmap=plt.get_cmap('gray'))\n",
    "        \n",
    "        # show the plot\n",
    "        plt.show()\n",
    "        \n",
    "        print(\"Predicted Label: \",key[y_pred_as_integers[i]])\n",
    "        print(\"True Label: \",key[y_batch[i]])\n",
    "        if(y_pred_as_integers[i] == y_batch[i]):\n",
    "            print(\"Correct\")\n",
    "        else:\n",
    "            print(\"Incorrect\")\n",
    "\n",
    "    break\n",
    "\n",
    "    \n"
   ]
  },
  {
   "cell_type": "code",
   "execution_count": 0,
   "metadata": {
    "colab": {},
    "colab_type": "code",
    "id": "kPLlII2nV4RV"
   },
   "outputs": [],
   "source": []
  }
 ],
 "metadata": {
  "accelerator": "GPU",
  "colab": {
   "collapsed_sections": [],
   "name": "assignment3_v1.ipynb",
   "provenance": [],
   "version": "0.3.2"
  },
  "kernelspec": {
   "display_name": "Python 3",
   "language": "python",
   "name": "python3"
  },
  "language_info": {
   "codemirror_mode": {
    "name": "ipython",
    "version": 3
   },
   "file_extension": ".py",
   "mimetype": "text/x-python",
   "name": "python",
   "nbconvert_exporter": "python",
   "pygments_lexer": "ipython3",
   "version": "3.5.2"
  }
 },
 "nbformat": 4,
 "nbformat_minor": 1
}
